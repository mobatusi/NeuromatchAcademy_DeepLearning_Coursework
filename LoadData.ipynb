{
 "cells": [
  {
   "cell_type": "code",
   "execution_count": null,
   "source": [
    "## Watch this to understand how to use the ecosystem daata as quickly as possible\n",
    "# https: // www.dropbox.com/sh/iysbzchdix2dc55/AAD9t53ntFNtTbyAYyIIdtjRa?dl = 0\n",
    "# https://www.kaggle.com/c/melbourne-university-seizure-prediction\n",
    "# Dr Levin Kuhlmann (levin.kuhlmann@monash.edu),"
   ],
   "outputs": [],
   "metadata": {}
  },
  {
   "cell_type": "markdown",
   "source": [
    "## Imports"
   ],
   "metadata": {}
  },
  {
   "cell_type": "code",
   "execution_count": 4,
   "source": [
    "import pandas as pd\n",
    "import scipy.io as sio\n",
    "import numpy as np\n",
    "import os\n",
    "import glob\n"
   ],
   "outputs": [],
   "metadata": {}
  },
  {
   "cell_type": "code",
   "execution_count": 6,
   "source": [
    "data_root = '/Users/Shared/Box/Neurovista'\n",
    "study = 'Pat1Train'\n",
    "#data_file = 'Pat1Train_1_1.mat'\n",
    "header = ['ch0',\t'ch1',\t'ch2',\t'ch3',\t'ch4',\t'ch5',\t'ch6',\t'ch7',\t'ch8',\t'ch9',\t'ch10',\t'ch11',\t'ch12',\t'ch13',\t'ch14',\t'ch15']\n",
    "studyHeader = ['study', 'segment', 'type']\n",
    "studyHeader_train = ['study','block_id', 'segment', 'type']\n",
    "analysis_root = '/Users/Shared/Box/Neurovista/analysis'\n",
    "data_label_root = '/Users/Shared/Box/Neurovista/data_labels'"
   ],
   "outputs": [],
   "metadata": {}
  },
  {
   "cell_type": "markdown",
   "source": [
    "## Load Train File"
   ],
   "metadata": {}
  },
  {
   "cell_type": "code",
   "execution_count": null,
   "source": [
    "train_labels = pd.read_csv(data_label_root + '/contest_train_data_labels.csv')\n",
    "train_labels_1 = train_labels[train_labels['class']==1]\n",
    "#train_labels_1 = train_labels\n",
    "\n",
    "# new data frame with split value columns\n",
    "new = train_labels_1[\"image\"].str.split(\"_\", n = 2, expand = True)\n",
    "  \n",
    "# making separate first name column from new data frame\n",
    "train_labels_1[\"patient\"]= new[0]\n",
    "  \n",
    "# making separate last name column from new data frame\n",
    "train_labels_1[\"segment\"]= new[1]\n",
    "\n",
    "train_labels_1[\"segment\"] = train_labels_1[\"segment\"].astype(int)\n",
    "\n",
    "train_labels_1[\"block_id\"]= np.ceil(np.array(train_labels_1['segment']/6))\n",
    "train_labels_1[\"block_id\"] = train_labels_1[\"block_id\"].astype(int)\n",
    "\n",
    "train_labels_1 = train_labels_1[train_labels_1['patient']==study]\n",
    "train_labels_1[\"class\"] = train_labels_1[\"class\"].astype(int)\n",
    "\n",
    "train_labels_1 = train_labels_1[train_labels_1['segment']<=150]"
   ],
   "outputs": [],
   "metadata": {}
  },
  {
   "cell_type": "markdown",
   "source": [
    "## Load Test files"
   ],
   "metadata": {}
  },
  {
   "cell_type": "code",
   "execution_count": null,
   "source": [
    "test_labels = pd.read_csv(data_label_root +'/contest_test_data_labels_public.csv')\n",
    "test_labels_public = test_labels[test_labels['usage']=='Public']\n",
    "# new data frame with split value columns\n",
    "new = test_labels_public[\"image\"].str.split(\"_\", n = 2, expand = True)\n",
    "  \n",
    "# making separate first name column from new data frame\n",
    "test_labels_public[\"patient\"]= new[0]\n",
    "  \n",
    "# making separate last name column from new data frame\n",
    "test_labels_public[\"segment\"]= new[1]\n",
    "\n",
    "test_labels_public[\"class\"] = test_labels_public[\"class\"].astype(int)\n",
    "test_labels_public = test_labels_public[test_labels_public['patient']==study]\n",
    "\n",
    "test_labels_public"
   ],
   "outputs": [],
   "metadata": {}
  },
  {
   "cell_type": "code",
   "execution_count": null,
   "source": [
    "Pat1Test_df = pd.DataFrame()\n",
    "matFiles = data_root+study+'/'+test_labels_public[\"image\"]+'.mat'\n",
    "for matFilePath in matFiles:\n",
    "  print(matFilePath)\n",
    "  loadedMatFile = sio.loadmat(matFilePath)['data']\n",
    "\n",
    "  file_name = matFilePath.split('/')[-1].split('.')[0]\n",
    "  file_name_row = test_labels_public[test_labels_public['image'] == file_name]\n",
    "  newColumns = [file_name_row[['patient','segment','class']].values] * np.shape(loadedMatFile)[0]\n",
    "  newColumns = np.squeeze(newColumns,axis=1)\n",
    "\n",
    "  study_df = pd.DataFrame(newColumns, columns=studyHeader)\n",
    "  mat_df = pd.DataFrame(loadedMatFile, columns=header)\n",
    "  result = pd.concat([study_df, mat_df], axis=1)\n",
    "  Pat1Test_df = pd.concat([Pat1Test_df,result])\n",
    "\n",
    "Pat1Test_df.study = Pat1Test_df.study.astype(str)\n",
    "Pat1Test_df.segment = Pat1Test_df.segment.astype(int)\n",
    "Pat1Test_df['type'] = Pat1Test_df['type'].astype(int)"
   ],
   "outputs": [],
   "metadata": {}
  }
 ],
 "metadata": {
  "orig_nbformat": 4,
  "language_info": {
   "name": "python",
   "version": "3.9.6",
   "mimetype": "text/x-python",
   "codemirror_mode": {
    "name": "ipython",
    "version": 3
   },
   "pygments_lexer": "ipython3",
   "nbconvert_exporter": "python",
   "file_extension": ".py"
  },
  "kernelspec": {
   "name": "python3",
   "display_name": "Python 3.9.6 64-bit ('nma-dl': conda)"
  },
  "interpreter": {
   "hash": "0868085fcb6aca0e128a9d93c05f533d33aad3914f8f9f812b7cf13a20250908"
  }
 },
 "nbformat": 4,
 "nbformat_minor": 2
}