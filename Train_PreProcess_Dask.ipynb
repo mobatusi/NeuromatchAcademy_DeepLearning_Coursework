{
 "cells": [
  {
   "cell_type": "code",
   "execution_count": 1,
   "source": [
    "import os\n",
    "import dask.dataframe as dd\n",
    "import pandas as pd\n",
    "# import scipy.io as sio\n",
    "import numpy as np\n",
    "from dask import delayed\n",
    "import matplotlib.pyplot as plt\n",
    "from matplotlib.widgets import Slider\n",
    "# import mne"
   ],
   "outputs": [],
   "metadata": {}
  },
  {
   "cell_type": "markdown",
   "source": [
    "# Read from Parquet"
   ],
   "metadata": {}
  },
  {
   "cell_type": "code",
   "execution_count": 2,
   "source": [
    "# select only the columns that you plan to use\n",
    "%timeit\n",
    "df = dd.read_parquet('/Volumes/Mosadoluwa 2TB/Neurovista/Pat1Train.parquet',engine='pyarrow')"
   ],
   "outputs": [],
   "metadata": {}
  },
  {
   "cell_type": "markdown",
   "source": [
    "# Data Description"
   ],
   "metadata": {}
  },
  {
   "cell_type": "code",
   "execution_count": 3,
   "source": [
    "df.head()"
   ],
   "outputs": [
    {
     "output_type": "execute_result",
     "data": {
      "text/plain": [
       "           study  segment  class       ch0         ch1        ch2        ch3  \\\n",
       "index                                                                          \n",
       "0      Pat1Train     1009      0 -83.48828 -106.718506 -37.229004  141.69824   \n",
       "1      Pat1Train     1009      0 -89.53076 -108.665530 -39.176025  142.70532   \n",
       "2      Pat1Train     1009      0 -90.53784 -110.679690 -47.232666  144.65234   \n",
       "3      Pat1Train     1009      0 -88.52368 -111.686770 -53.208252  149.68799   \n",
       "4      Pat1Train     1009      0 -85.50244 -108.665530 -58.176514  152.70923   \n",
       "\n",
       "             ch4        ch5        ch6        ch7        ch8        ch9  \\\n",
       "index                                                                     \n",
       "0     -45.487060  17.825684 -40.854492   7.418945  -8.358887 -17.422852   \n",
       "1     -51.462646  19.839844 -42.868652   6.411621  -8.358887 -15.408691   \n",
       "2     -51.462646  18.832764 -42.868652   9.433350 -11.380127 -15.408691   \n",
       "3     -50.455566  21.854004 -41.861572  15.408691 -15.408691 -18.429932   \n",
       "4     -49.448486  20.846924 -37.833252  20.376953 -23.398193 -21.451172   \n",
       "\n",
       "            ch10       ch11       ch12       ch13       ch14       ch15  \\\n",
       "index                                                                     \n",
       "0       0.637695  53.141113   5.136230  23.801025  38.773193  47.031494   \n",
       "1       7.620117  57.169434   4.128906  24.808105  44.748780  50.052734   \n",
       "2       8.627686  56.162354   9.164795  25.815430  46.762940  51.059814   \n",
       "3       8.627686  59.116455  10.104736  18.765625  43.741700  50.052734   \n",
       "4      14.603027  64.152100   7.150391   8.761963  45.755860  52.066895   \n",
       "\n",
       "       block_id  \n",
       "index            \n",
       "0           169  \n",
       "1           169  \n",
       "2           169  \n",
       "3           169  \n",
       "4           169  "
      ],
      "text/html": [
       "<div>\n",
       "<style scoped>\n",
       "    .dataframe tbody tr th:only-of-type {\n",
       "        vertical-align: middle;\n",
       "    }\n",
       "\n",
       "    .dataframe tbody tr th {\n",
       "        vertical-align: top;\n",
       "    }\n",
       "\n",
       "    .dataframe thead th {\n",
       "        text-align: right;\n",
       "    }\n",
       "</style>\n",
       "<table border=\"1\" class=\"dataframe\">\n",
       "  <thead>\n",
       "    <tr style=\"text-align: right;\">\n",
       "      <th></th>\n",
       "      <th>study</th>\n",
       "      <th>segment</th>\n",
       "      <th>class</th>\n",
       "      <th>ch0</th>\n",
       "      <th>ch1</th>\n",
       "      <th>ch2</th>\n",
       "      <th>ch3</th>\n",
       "      <th>ch4</th>\n",
       "      <th>ch5</th>\n",
       "      <th>ch6</th>\n",
       "      <th>ch7</th>\n",
       "      <th>ch8</th>\n",
       "      <th>ch9</th>\n",
       "      <th>ch10</th>\n",
       "      <th>ch11</th>\n",
       "      <th>ch12</th>\n",
       "      <th>ch13</th>\n",
       "      <th>ch14</th>\n",
       "      <th>ch15</th>\n",
       "      <th>block_id</th>\n",
       "    </tr>\n",
       "    <tr>\n",
       "      <th>index</th>\n",
       "      <th></th>\n",
       "      <th></th>\n",
       "      <th></th>\n",
       "      <th></th>\n",
       "      <th></th>\n",
       "      <th></th>\n",
       "      <th></th>\n",
       "      <th></th>\n",
       "      <th></th>\n",
       "      <th></th>\n",
       "      <th></th>\n",
       "      <th></th>\n",
       "      <th></th>\n",
       "      <th></th>\n",
       "      <th></th>\n",
       "      <th></th>\n",
       "      <th></th>\n",
       "      <th></th>\n",
       "      <th></th>\n",
       "      <th></th>\n",
       "    </tr>\n",
       "  </thead>\n",
       "  <tbody>\n",
       "    <tr>\n",
       "      <th>0</th>\n",
       "      <td>Pat1Train</td>\n",
       "      <td>1009</td>\n",
       "      <td>0</td>\n",
       "      <td>-83.48828</td>\n",
       "      <td>-106.718506</td>\n",
       "      <td>-37.229004</td>\n",
       "      <td>141.69824</td>\n",
       "      <td>-45.487060</td>\n",
       "      <td>17.825684</td>\n",
       "      <td>-40.854492</td>\n",
       "      <td>7.418945</td>\n",
       "      <td>-8.358887</td>\n",
       "      <td>-17.422852</td>\n",
       "      <td>0.637695</td>\n",
       "      <td>53.141113</td>\n",
       "      <td>5.136230</td>\n",
       "      <td>23.801025</td>\n",
       "      <td>38.773193</td>\n",
       "      <td>47.031494</td>\n",
       "      <td>169</td>\n",
       "    </tr>\n",
       "    <tr>\n",
       "      <th>1</th>\n",
       "      <td>Pat1Train</td>\n",
       "      <td>1009</td>\n",
       "      <td>0</td>\n",
       "      <td>-89.53076</td>\n",
       "      <td>-108.665530</td>\n",
       "      <td>-39.176025</td>\n",
       "      <td>142.70532</td>\n",
       "      <td>-51.462646</td>\n",
       "      <td>19.839844</td>\n",
       "      <td>-42.868652</td>\n",
       "      <td>6.411621</td>\n",
       "      <td>-8.358887</td>\n",
       "      <td>-15.408691</td>\n",
       "      <td>7.620117</td>\n",
       "      <td>57.169434</td>\n",
       "      <td>4.128906</td>\n",
       "      <td>24.808105</td>\n",
       "      <td>44.748780</td>\n",
       "      <td>50.052734</td>\n",
       "      <td>169</td>\n",
       "    </tr>\n",
       "    <tr>\n",
       "      <th>2</th>\n",
       "      <td>Pat1Train</td>\n",
       "      <td>1009</td>\n",
       "      <td>0</td>\n",
       "      <td>-90.53784</td>\n",
       "      <td>-110.679690</td>\n",
       "      <td>-47.232666</td>\n",
       "      <td>144.65234</td>\n",
       "      <td>-51.462646</td>\n",
       "      <td>18.832764</td>\n",
       "      <td>-42.868652</td>\n",
       "      <td>9.433350</td>\n",
       "      <td>-11.380127</td>\n",
       "      <td>-15.408691</td>\n",
       "      <td>8.627686</td>\n",
       "      <td>56.162354</td>\n",
       "      <td>9.164795</td>\n",
       "      <td>25.815430</td>\n",
       "      <td>46.762940</td>\n",
       "      <td>51.059814</td>\n",
       "      <td>169</td>\n",
       "    </tr>\n",
       "    <tr>\n",
       "      <th>3</th>\n",
       "      <td>Pat1Train</td>\n",
       "      <td>1009</td>\n",
       "      <td>0</td>\n",
       "      <td>-88.52368</td>\n",
       "      <td>-111.686770</td>\n",
       "      <td>-53.208252</td>\n",
       "      <td>149.68799</td>\n",
       "      <td>-50.455566</td>\n",
       "      <td>21.854004</td>\n",
       "      <td>-41.861572</td>\n",
       "      <td>15.408691</td>\n",
       "      <td>-15.408691</td>\n",
       "      <td>-18.429932</td>\n",
       "      <td>8.627686</td>\n",
       "      <td>59.116455</td>\n",
       "      <td>10.104736</td>\n",
       "      <td>18.765625</td>\n",
       "      <td>43.741700</td>\n",
       "      <td>50.052734</td>\n",
       "      <td>169</td>\n",
       "    </tr>\n",
       "    <tr>\n",
       "      <th>4</th>\n",
       "      <td>Pat1Train</td>\n",
       "      <td>1009</td>\n",
       "      <td>0</td>\n",
       "      <td>-85.50244</td>\n",
       "      <td>-108.665530</td>\n",
       "      <td>-58.176514</td>\n",
       "      <td>152.70923</td>\n",
       "      <td>-49.448486</td>\n",
       "      <td>20.846924</td>\n",
       "      <td>-37.833252</td>\n",
       "      <td>20.376953</td>\n",
       "      <td>-23.398193</td>\n",
       "      <td>-21.451172</td>\n",
       "      <td>14.603027</td>\n",
       "      <td>64.152100</td>\n",
       "      <td>7.150391</td>\n",
       "      <td>8.761963</td>\n",
       "      <td>45.755860</td>\n",
       "      <td>52.066895</td>\n",
       "      <td>169</td>\n",
       "    </tr>\n",
       "  </tbody>\n",
       "</table>\n",
       "</div>"
      ]
     },
     "metadata": {},
     "execution_count": 3
    }
   ],
   "metadata": {}
  },
  {
   "cell_type": "code",
   "execution_count": 4,
   "source": [
    "df.dtypes"
   ],
   "outputs": [
    {
     "output_type": "execute_result",
     "data": {
      "text/plain": [
       "study        object\n",
       "segment       int64\n",
       "class         int64\n",
       "ch0         float64\n",
       "ch1         float64\n",
       "ch2         float64\n",
       "ch3         float64\n",
       "ch4         float64\n",
       "ch5         float64\n",
       "ch6         float64\n",
       "ch7         float64\n",
       "ch8         float64\n",
       "ch9         float64\n",
       "ch10        float64\n",
       "ch11        float64\n",
       "ch12        float64\n",
       "ch13        float64\n",
       "ch14        float64\n",
       "ch15        float64\n",
       "block_id      int64\n",
       "dtype: object"
      ]
     },
     "metadata": {},
     "execution_count": 4
    }
   ],
   "metadata": {}
  },
  {
   "cell_type": "code",
   "execution_count": 5,
   "source": [
    "print(f'There are {int(df.size.compute() / df.shape[1])} rows and {df.shape[1]} columns')\n"
   ],
   "outputs": [
    {
     "output_type": "stream",
     "name": "stdout",
     "text": [
      "There are 197604809 rows and 20 columns\n"
     ]
    }
   ],
   "metadata": {}
  },
  {
   "cell_type": "code",
   "execution_count": 6,
   "source": [
    "df['class'].value_counts().compute()"
   ],
   "outputs": [
    {
     "output_type": "execute_result",
     "data": {
      "text/plain": [
       "0    136529809\n",
       "1     61075000\n",
       "Name: class, dtype: int64"
      ]
     },
     "metadata": {},
     "execution_count": 6
    }
   ],
   "metadata": {}
  },
  {
   "cell_type": "markdown",
   "source": [
    "## Preictal"
   ],
   "metadata": {}
  },
  {
   "cell_type": "code",
   "execution_count": 7,
   "source": [
    "pat1_preictal_description = df[df['class'] == 1].iloc[:, 3:-1].describe().compute()"
   ],
   "outputs": [],
   "metadata": {}
  },
  {
   "cell_type": "code",
   "execution_count": 8,
   "source": [
    "pat1_preictal_description.head()\n"
   ],
   "outputs": [
    {
     "output_type": "execute_result",
     "data": {
      "text/plain": [
       "                ch0           ch1           ch2           ch3           ch4  \\\n",
       "count  6.107500e+07  6.107500e+07  6.107500e+07  6.107500e+07  6.107500e+07   \n",
       "mean   3.638221e-03  2.461372e-02  7.211275e-02 -3.440142e-02  4.797553e-02   \n",
       "std    2.766804e+01  3.028344e+01  3.167338e+01  5.313039e+01  3.303541e+01   \n",
       "min   -4.283849e+02 -3.357992e+02 -7.877165e+02 -6.375920e+02 -1.949435e+03   \n",
       "25%    3.369141e-02 -1.107910e+00  3.369141e-02 -2.316406e+00  3.369141e-02   \n",
       "\n",
       "                ch5           ch6           ch7           ch8           ch9  \\\n",
       "count  6.107500e+07  6.107500e+07  6.107500e+07  6.107500e+07  6.107500e+07   \n",
       "mean  -5.515550e-02  2.605473e-03 -1.084710e-01 -4.880698e-02 -1.105741e-01   \n",
       "std    2.822801e+01  3.247108e+01  3.275417e+01  2.677464e+01  3.749299e+01   \n",
       "min   -9.691951e+02 -7.605922e+02 -7.103716e+02 -4.981429e+02 -1.967562e+03   \n",
       "25%    3.369141e-02 -1.005859e-01 -5.708008e-01  3.369141e-02 -3.369141e-02   \n",
       "\n",
       "               ch10          ch11          ch12          ch13          ch14  \\\n",
       "count  6.107500e+07  6.107500e+07  6.107500e+07  6.107500e+07  6.107500e+07   \n",
       "mean  -1.067725e-01  1.219986e-01  2.037599e-01  1.419766e-01  1.269083e-01   \n",
       "std    3.455712e+01  4.527587e+01  5.101323e+01  4.949785e+01  4.183653e+01   \n",
       "min   -5.939513e+02 -8.895675e+02 -1.803406e+03 -2.102782e+03 -9.072252e+02   \n",
       "25%   -3.022461e-01 -9.062500e-01 -3.022461e-01  3.369141e-02 -4.365234e-01   \n",
       "\n",
       "               ch15  \n",
       "count  6.107500e+07  \n",
       "mean   1.299538e-02  \n",
       "std    2.767179e+01  \n",
       "min   -4.303319e+02  \n",
       "25%   -3.691406e-01  "
      ],
      "text/html": [
       "<div>\n",
       "<style scoped>\n",
       "    .dataframe tbody tr th:only-of-type {\n",
       "        vertical-align: middle;\n",
       "    }\n",
       "\n",
       "    .dataframe tbody tr th {\n",
       "        vertical-align: top;\n",
       "    }\n",
       "\n",
       "    .dataframe thead th {\n",
       "        text-align: right;\n",
       "    }\n",
       "</style>\n",
       "<table border=\"1\" class=\"dataframe\">\n",
       "  <thead>\n",
       "    <tr style=\"text-align: right;\">\n",
       "      <th></th>\n",
       "      <th>ch0</th>\n",
       "      <th>ch1</th>\n",
       "      <th>ch2</th>\n",
       "      <th>ch3</th>\n",
       "      <th>ch4</th>\n",
       "      <th>ch5</th>\n",
       "      <th>ch6</th>\n",
       "      <th>ch7</th>\n",
       "      <th>ch8</th>\n",
       "      <th>ch9</th>\n",
       "      <th>ch10</th>\n",
       "      <th>ch11</th>\n",
       "      <th>ch12</th>\n",
       "      <th>ch13</th>\n",
       "      <th>ch14</th>\n",
       "      <th>ch15</th>\n",
       "    </tr>\n",
       "  </thead>\n",
       "  <tbody>\n",
       "    <tr>\n",
       "      <th>count</th>\n",
       "      <td>6.107500e+07</td>\n",
       "      <td>6.107500e+07</td>\n",
       "      <td>6.107500e+07</td>\n",
       "      <td>6.107500e+07</td>\n",
       "      <td>6.107500e+07</td>\n",
       "      <td>6.107500e+07</td>\n",
       "      <td>6.107500e+07</td>\n",
       "      <td>6.107500e+07</td>\n",
       "      <td>6.107500e+07</td>\n",
       "      <td>6.107500e+07</td>\n",
       "      <td>6.107500e+07</td>\n",
       "      <td>6.107500e+07</td>\n",
       "      <td>6.107500e+07</td>\n",
       "      <td>6.107500e+07</td>\n",
       "      <td>6.107500e+07</td>\n",
       "      <td>6.107500e+07</td>\n",
       "    </tr>\n",
       "    <tr>\n",
       "      <th>mean</th>\n",
       "      <td>3.638221e-03</td>\n",
       "      <td>2.461372e-02</td>\n",
       "      <td>7.211275e-02</td>\n",
       "      <td>-3.440142e-02</td>\n",
       "      <td>4.797553e-02</td>\n",
       "      <td>-5.515550e-02</td>\n",
       "      <td>2.605473e-03</td>\n",
       "      <td>-1.084710e-01</td>\n",
       "      <td>-4.880698e-02</td>\n",
       "      <td>-1.105741e-01</td>\n",
       "      <td>-1.067725e-01</td>\n",
       "      <td>1.219986e-01</td>\n",
       "      <td>2.037599e-01</td>\n",
       "      <td>1.419766e-01</td>\n",
       "      <td>1.269083e-01</td>\n",
       "      <td>1.299538e-02</td>\n",
       "    </tr>\n",
       "    <tr>\n",
       "      <th>std</th>\n",
       "      <td>2.766804e+01</td>\n",
       "      <td>3.028344e+01</td>\n",
       "      <td>3.167338e+01</td>\n",
       "      <td>5.313039e+01</td>\n",
       "      <td>3.303541e+01</td>\n",
       "      <td>2.822801e+01</td>\n",
       "      <td>3.247108e+01</td>\n",
       "      <td>3.275417e+01</td>\n",
       "      <td>2.677464e+01</td>\n",
       "      <td>3.749299e+01</td>\n",
       "      <td>3.455712e+01</td>\n",
       "      <td>4.527587e+01</td>\n",
       "      <td>5.101323e+01</td>\n",
       "      <td>4.949785e+01</td>\n",
       "      <td>4.183653e+01</td>\n",
       "      <td>2.767179e+01</td>\n",
       "    </tr>\n",
       "    <tr>\n",
       "      <th>min</th>\n",
       "      <td>-4.283849e+02</td>\n",
       "      <td>-3.357992e+02</td>\n",
       "      <td>-7.877165e+02</td>\n",
       "      <td>-6.375920e+02</td>\n",
       "      <td>-1.949435e+03</td>\n",
       "      <td>-9.691951e+02</td>\n",
       "      <td>-7.605922e+02</td>\n",
       "      <td>-7.103716e+02</td>\n",
       "      <td>-4.981429e+02</td>\n",
       "      <td>-1.967562e+03</td>\n",
       "      <td>-5.939513e+02</td>\n",
       "      <td>-8.895675e+02</td>\n",
       "      <td>-1.803406e+03</td>\n",
       "      <td>-2.102782e+03</td>\n",
       "      <td>-9.072252e+02</td>\n",
       "      <td>-4.303319e+02</td>\n",
       "    </tr>\n",
       "    <tr>\n",
       "      <th>25%</th>\n",
       "      <td>3.369141e-02</td>\n",
       "      <td>-1.107910e+00</td>\n",
       "      <td>3.369141e-02</td>\n",
       "      <td>-2.316406e+00</td>\n",
       "      <td>3.369141e-02</td>\n",
       "      <td>3.369141e-02</td>\n",
       "      <td>-1.005859e-01</td>\n",
       "      <td>-5.708008e-01</td>\n",
       "      <td>3.369141e-02</td>\n",
       "      <td>-3.369141e-02</td>\n",
       "      <td>-3.022461e-01</td>\n",
       "      <td>-9.062500e-01</td>\n",
       "      <td>-3.022461e-01</td>\n",
       "      <td>3.369141e-02</td>\n",
       "      <td>-4.365234e-01</td>\n",
       "      <td>-3.691406e-01</td>\n",
       "    </tr>\n",
       "  </tbody>\n",
       "</table>\n",
       "</div>"
      ]
     },
     "metadata": {},
     "execution_count": 8
    }
   ],
   "metadata": {}
  },
  {
   "cell_type": "code",
   "execution_count": 9,
   "source": [
    "mins = pat1_preictal_description.iloc[3]\n",
    "maxes = pat1_preictal_description.iloc[7]\n",
    "means = pat1_preictal_description.iloc[1]\n",
    "std = pat1_preictal_description.iloc[2]"
   ],
   "outputs": [],
   "metadata": {}
  },
  {
   "cell_type": "code",
   "execution_count": 12,
   "source": [
    "# create stacked errorbars:\n",
    "numOfCh = pat1_preictal_description.shape[1]\n",
    "plt.errorbar(np.arange(numOfCh), means, std, fmt='ok', lw=3)\n",
    "plt.errorbar(np.arange(numOfCh), means, [means - mins, maxes - means],\n",
    "             fmt='.k', ecolor='gray', lw=1)\n",
    "plt.xlim(-1, numOfCh)\n",
    "plt.show()"
   ],
   "outputs": [
    {
     "output_type": "display_data",
     "data": {
      "text/plain": [
       "<Figure size 640x480 with 1 Axes>"
      ],
      "image/svg+xml": "<?xml version=\"1.0\" encoding=\"utf-8\" standalone=\"no\"?>\n<!DOCTYPE svg PUBLIC \"-//W3C//DTD SVG 1.1//EN\"\n  \"http://www.w3.org/Graphics/SVG/1.1/DTD/svg11.dtd\">\n<svg height=\"297.190125pt\" version=\"1.1\" viewBox=\"0 0 418.712187 297.190125\" width=\"418.712187pt\" xmlns=\"http://www.w3.org/2000/svg\" xmlns:xlink=\"http://www.w3.org/1999/xlink\">\n <metadata>\n  <rdf:RDF xmlns:cc=\"http://creativecommons.org/ns#\" xmlns:dc=\"http://purl.org/dc/elements/1.1/\" xmlns:rdf=\"http://www.w3.org/1999/02/22-rdf-syntax-ns#\">\n   <cc:Work>\n    <dc:type rdf:resource=\"http://purl.org/dc/dcmitype/StillImage\"/>\n    <dc:date>2021-09-07T08:31:09.755561</dc:date>\n    <dc:format>image/svg+xml</dc:format>\n    <dc:creator>\n     <cc:Agent>\n      <dc:title>Matplotlib v3.4.3, https://matplotlib.org/</dc:title>\n     </cc:Agent>\n    </dc:creator>\n   </cc:Work>\n  </rdf:RDF>\n </metadata>\n <defs>\n  <style type=\"text/css\">*{stroke-linecap:butt;stroke-linejoin:round;}</style>\n </defs>\n <g id=\"figure_1\">\n  <g id=\"patch_1\">\n   <path d=\"M 0 297.190125 \nL 418.712187 297.190125 \nL 418.712187 0 \nL 0 0 \nz\n\" style=\"fill:#ffffff;\"/>\n  </g>\n  <g id=\"axes_1\">\n   <g id=\"patch_2\">\n    <path d=\"M 48.029688 273.312 \nL 405.149688 273.312 \nL 405.149688 7.2 \nL 48.029688 7.2 \nz\n\" style=\"fill:#ffffff;\"/>\n   </g>\n   <g id=\"matplotlib.axis_1\">\n    <g id=\"xtick_1\">\n     <g id=\"line2d_1\">\n      <defs>\n       <path d=\"M 0 0 \nL 0 3.5 \n\" id=\"m54299876d0\" style=\"stroke:#000000;stroke-width:0.8;\"/>\n      </defs>\n      <g>\n       <use style=\"stroke:#000000;stroke-width:0.8;\" x=\"69.036746\" xlink:href=\"#m54299876d0\" y=\"273.312\"/>\n      </g>\n     </g>\n     <g id=\"text_1\">\n      <!-- 0 -->\n      <g transform=\"translate(65.855496 287.910437)scale(0.1 -0.1)\">\n       <defs>\n        <path d=\"M 2034 4250 \nQ 1547 4250 1301 3770 \nQ 1056 3291 1056 2328 \nQ 1056 1369 1301 889 \nQ 1547 409 2034 409 \nQ 2525 409 2770 889 \nQ 3016 1369 3016 2328 \nQ 3016 3291 2770 3770 \nQ 2525 4250 2034 4250 \nz\nM 2034 4750 \nQ 2819 4750 3233 4129 \nQ 3647 3509 3647 2328 \nQ 3647 1150 3233 529 \nQ 2819 -91 2034 -91 \nQ 1250 -91 836 529 \nQ 422 1150 422 2328 \nQ 422 3509 836 4129 \nQ 1250 4750 2034 4750 \nz\n\" id=\"DejaVuSans-30\" transform=\"scale(0.015625)\"/>\n       </defs>\n       <use xlink:href=\"#DejaVuSans-30\"/>\n      </g>\n     </g>\n    </g>\n    <g id=\"xtick_2\">\n     <g id=\"line2d_2\">\n      <g>\n       <use style=\"stroke:#000000;stroke-width:0.8;\" x=\"111.050864\" xlink:href=\"#m54299876d0\" y=\"273.312\"/>\n      </g>\n     </g>\n     <g id=\"text_2\">\n      <!-- 2 -->\n      <g transform=\"translate(107.869614 287.910437)scale(0.1 -0.1)\">\n       <defs>\n        <path d=\"M 1228 531 \nL 3431 531 \nL 3431 0 \nL 469 0 \nL 469 531 \nQ 828 903 1448 1529 \nQ 2069 2156 2228 2338 \nQ 2531 2678 2651 2914 \nQ 2772 3150 2772 3378 \nQ 2772 3750 2511 3984 \nQ 2250 4219 1831 4219 \nQ 1534 4219 1204 4116 \nQ 875 4013 500 3803 \nL 500 4441 \nQ 881 4594 1212 4672 \nQ 1544 4750 1819 4750 \nQ 2544 4750 2975 4387 \nQ 3406 4025 3406 3419 \nQ 3406 3131 3298 2873 \nQ 3191 2616 2906 2266 \nQ 2828 2175 2409 1742 \nQ 1991 1309 1228 531 \nz\n\" id=\"DejaVuSans-32\" transform=\"scale(0.015625)\"/>\n       </defs>\n       <use xlink:href=\"#DejaVuSans-32\"/>\n      </g>\n     </g>\n    </g>\n    <g id=\"xtick_3\">\n     <g id=\"line2d_3\">\n      <g>\n       <use style=\"stroke:#000000;stroke-width:0.8;\" x=\"153.064982\" xlink:href=\"#m54299876d0\" y=\"273.312\"/>\n      </g>\n     </g>\n     <g id=\"text_3\">\n      <!-- 4 -->\n      <g transform=\"translate(149.883732 287.910437)scale(0.1 -0.1)\">\n       <defs>\n        <path d=\"M 2419 4116 \nL 825 1625 \nL 2419 1625 \nL 2419 4116 \nz\nM 2253 4666 \nL 3047 4666 \nL 3047 1625 \nL 3713 1625 \nL 3713 1100 \nL 3047 1100 \nL 3047 0 \nL 2419 0 \nL 2419 1100 \nL 313 1100 \nL 313 1709 \nL 2253 4666 \nz\n\" id=\"DejaVuSans-34\" transform=\"scale(0.015625)\"/>\n       </defs>\n       <use xlink:href=\"#DejaVuSans-34\"/>\n      </g>\n     </g>\n    </g>\n    <g id=\"xtick_4\">\n     <g id=\"line2d_4\">\n      <g>\n       <use style=\"stroke:#000000;stroke-width:0.8;\" x=\"195.079099\" xlink:href=\"#m54299876d0\" y=\"273.312\"/>\n      </g>\n     </g>\n     <g id=\"text_4\">\n      <!-- 6 -->\n      <g transform=\"translate(191.897849 287.910437)scale(0.1 -0.1)\">\n       <defs>\n        <path d=\"M 2113 2584 \nQ 1688 2584 1439 2293 \nQ 1191 2003 1191 1497 \nQ 1191 994 1439 701 \nQ 1688 409 2113 409 \nQ 2538 409 2786 701 \nQ 3034 994 3034 1497 \nQ 3034 2003 2786 2293 \nQ 2538 2584 2113 2584 \nz\nM 3366 4563 \nL 3366 3988 \nQ 3128 4100 2886 4159 \nQ 2644 4219 2406 4219 \nQ 1781 4219 1451 3797 \nQ 1122 3375 1075 2522 \nQ 1259 2794 1537 2939 \nQ 1816 3084 2150 3084 \nQ 2853 3084 3261 2657 \nQ 3669 2231 3669 1497 \nQ 3669 778 3244 343 \nQ 2819 -91 2113 -91 \nQ 1303 -91 875 529 \nQ 447 1150 447 2328 \nQ 447 3434 972 4092 \nQ 1497 4750 2381 4750 \nQ 2619 4750 2861 4703 \nQ 3103 4656 3366 4563 \nz\n\" id=\"DejaVuSans-36\" transform=\"scale(0.015625)\"/>\n       </defs>\n       <use xlink:href=\"#DejaVuSans-36\"/>\n      </g>\n     </g>\n    </g>\n    <g id=\"xtick_5\">\n     <g id=\"line2d_5\">\n      <g>\n       <use style=\"stroke:#000000;stroke-width:0.8;\" x=\"237.093217\" xlink:href=\"#m54299876d0\" y=\"273.312\"/>\n      </g>\n     </g>\n     <g id=\"text_5\">\n      <!-- 8 -->\n      <g transform=\"translate(233.911967 287.910437)scale(0.1 -0.1)\">\n       <defs>\n        <path d=\"M 2034 2216 \nQ 1584 2216 1326 1975 \nQ 1069 1734 1069 1313 \nQ 1069 891 1326 650 \nQ 1584 409 2034 409 \nQ 2484 409 2743 651 \nQ 3003 894 3003 1313 \nQ 3003 1734 2745 1975 \nQ 2488 2216 2034 2216 \nz\nM 1403 2484 \nQ 997 2584 770 2862 \nQ 544 3141 544 3541 \nQ 544 4100 942 4425 \nQ 1341 4750 2034 4750 \nQ 2731 4750 3128 4425 \nQ 3525 4100 3525 3541 \nQ 3525 3141 3298 2862 \nQ 3072 2584 2669 2484 \nQ 3125 2378 3379 2068 \nQ 3634 1759 3634 1313 \nQ 3634 634 3220 271 \nQ 2806 -91 2034 -91 \nQ 1263 -91 848 271 \nQ 434 634 434 1313 \nQ 434 1759 690 2068 \nQ 947 2378 1403 2484 \nz\nM 1172 3481 \nQ 1172 3119 1398 2916 \nQ 1625 2713 2034 2713 \nQ 2441 2713 2670 2916 \nQ 2900 3119 2900 3481 \nQ 2900 3844 2670 4047 \nQ 2441 4250 2034 4250 \nQ 1625 4250 1398 4047 \nQ 1172 3844 1172 3481 \nz\n\" id=\"DejaVuSans-38\" transform=\"scale(0.015625)\"/>\n       </defs>\n       <use xlink:href=\"#DejaVuSans-38\"/>\n      </g>\n     </g>\n    </g>\n    <g id=\"xtick_6\">\n     <g id=\"line2d_6\">\n      <g>\n       <use style=\"stroke:#000000;stroke-width:0.8;\" x=\"279.107335\" xlink:href=\"#m54299876d0\" y=\"273.312\"/>\n      </g>\n     </g>\n     <g id=\"text_6\">\n      <!-- 10 -->\n      <g transform=\"translate(272.744835 287.910437)scale(0.1 -0.1)\">\n       <defs>\n        <path d=\"M 794 531 \nL 1825 531 \nL 1825 4091 \nL 703 3866 \nL 703 4441 \nL 1819 4666 \nL 2450 4666 \nL 2450 531 \nL 3481 531 \nL 3481 0 \nL 794 0 \nL 794 531 \nz\n\" id=\"DejaVuSans-31\" transform=\"scale(0.015625)\"/>\n       </defs>\n       <use xlink:href=\"#DejaVuSans-31\"/>\n       <use x=\"63.623047\" xlink:href=\"#DejaVuSans-30\"/>\n      </g>\n     </g>\n    </g>\n    <g id=\"xtick_7\">\n     <g id=\"line2d_7\">\n      <g>\n       <use style=\"stroke:#000000;stroke-width:0.8;\" x=\"321.121452\" xlink:href=\"#m54299876d0\" y=\"273.312\"/>\n      </g>\n     </g>\n     <g id=\"text_7\">\n      <!-- 12 -->\n      <g transform=\"translate(314.758952 287.910437)scale(0.1 -0.1)\">\n       <use xlink:href=\"#DejaVuSans-31\"/>\n       <use x=\"63.623047\" xlink:href=\"#DejaVuSans-32\"/>\n      </g>\n     </g>\n    </g>\n    <g id=\"xtick_8\">\n     <g id=\"line2d_8\">\n      <g>\n       <use style=\"stroke:#000000;stroke-width:0.8;\" x=\"363.13557\" xlink:href=\"#m54299876d0\" y=\"273.312\"/>\n      </g>\n     </g>\n     <g id=\"text_8\">\n      <!-- 14 -->\n      <g transform=\"translate(356.77307 287.910437)scale(0.1 -0.1)\">\n       <use xlink:href=\"#DejaVuSans-31\"/>\n       <use x=\"63.623047\" xlink:href=\"#DejaVuSans-34\"/>\n      </g>\n     </g>\n    </g>\n    <g id=\"xtick_9\">\n     <g id=\"line2d_9\">\n      <g>\n       <use style=\"stroke:#000000;stroke-width:0.8;\" x=\"405.149688\" xlink:href=\"#m54299876d0\" y=\"273.312\"/>\n      </g>\n     </g>\n     <g id=\"text_9\">\n      <!-- 16 -->\n      <g transform=\"translate(398.787188 287.910437)scale(0.1 -0.1)\">\n       <use xlink:href=\"#DejaVuSans-31\"/>\n       <use x=\"63.623047\" xlink:href=\"#DejaVuSans-36\"/>\n      </g>\n     </g>\n    </g>\n   </g>\n   <g id=\"matplotlib.axis_2\">\n    <g id=\"ytick_1\">\n     <g id=\"line2d_10\">\n      <defs>\n       <path d=\"M 0 0 \nL -3.5 0 \n\" id=\"m13865f9353\" style=\"stroke:#000000;stroke-width:0.8;\"/>\n      </defs>\n      <g>\n       <use style=\"stroke:#000000;stroke-width:0.8;\" x=\"48.029688\" xlink:href=\"#m13865f9353\" y=\"255.142954\"/>\n      </g>\n     </g>\n     <g id=\"text_10\">\n      <!-- −2000 -->\n      <g transform=\"translate(7.2 258.942173)scale(0.1 -0.1)\">\n       <defs>\n        <path d=\"M 678 2272 \nL 4684 2272 \nL 4684 1741 \nL 678 1741 \nL 678 2272 \nz\n\" id=\"DejaVuSans-2212\" transform=\"scale(0.015625)\"/>\n       </defs>\n       <use xlink:href=\"#DejaVuSans-2212\"/>\n       <use x=\"83.789062\" xlink:href=\"#DejaVuSans-32\"/>\n       <use x=\"147.412109\" xlink:href=\"#DejaVuSans-30\"/>\n       <use x=\"211.035156\" xlink:href=\"#DejaVuSans-30\"/>\n       <use x=\"274.658203\" xlink:href=\"#DejaVuSans-30\"/>\n      </g>\n     </g>\n    </g>\n    <g id=\"ytick_2\">\n     <g id=\"line2d_11\">\n      <g>\n       <use style=\"stroke:#000000;stroke-width:0.8;\" x=\"48.029688\" xlink:href=\"#m13865f9353\" y=\"196.056117\"/>\n      </g>\n     </g>\n     <g id=\"text_11\">\n      <!-- −1000 -->\n      <g transform=\"translate(7.2 199.855336)scale(0.1 -0.1)\">\n       <use xlink:href=\"#DejaVuSans-2212\"/>\n       <use x=\"83.789062\" xlink:href=\"#DejaVuSans-31\"/>\n       <use x=\"147.412109\" xlink:href=\"#DejaVuSans-30\"/>\n       <use x=\"211.035156\" xlink:href=\"#DejaVuSans-30\"/>\n       <use x=\"274.658203\" xlink:href=\"#DejaVuSans-30\"/>\n      </g>\n     </g>\n    </g>\n    <g id=\"ytick_3\">\n     <g id=\"line2d_12\">\n      <g>\n       <use style=\"stroke:#000000;stroke-width:0.8;\" x=\"48.029688\" xlink:href=\"#m13865f9353\" y=\"136.96928\"/>\n      </g>\n     </g>\n     <g id=\"text_12\">\n      <!-- 0 -->\n      <g transform=\"translate(34.667187 140.768499)scale(0.1 -0.1)\">\n       <use xlink:href=\"#DejaVuSans-30\"/>\n      </g>\n     </g>\n    </g>\n    <g id=\"ytick_4\">\n     <g id=\"line2d_13\">\n      <g>\n       <use style=\"stroke:#000000;stroke-width:0.8;\" x=\"48.029688\" xlink:href=\"#m13865f9353\" y=\"77.882443\"/>\n      </g>\n     </g>\n     <g id=\"text_13\">\n      <!-- 1000 -->\n      <g transform=\"translate(15.579687 81.681661)scale(0.1 -0.1)\">\n       <use xlink:href=\"#DejaVuSans-31\"/>\n       <use x=\"63.623047\" xlink:href=\"#DejaVuSans-30\"/>\n       <use x=\"127.246094\" xlink:href=\"#DejaVuSans-30\"/>\n       <use x=\"190.869141\" xlink:href=\"#DejaVuSans-30\"/>\n      </g>\n     </g>\n    </g>\n    <g id=\"ytick_5\">\n     <g id=\"line2d_14\">\n      <g>\n       <use style=\"stroke:#000000;stroke-width:0.8;\" x=\"48.029688\" xlink:href=\"#m13865f9353\" y=\"18.795605\"/>\n      </g>\n     </g>\n     <g id=\"text_14\">\n      <!-- 2000 -->\n      <g transform=\"translate(15.579687 22.594824)scale(0.1 -0.1)\">\n       <use xlink:href=\"#DejaVuSans-32\"/>\n       <use x=\"63.623047\" xlink:href=\"#DejaVuSans-30\"/>\n       <use x=\"127.246094\" xlink:href=\"#DejaVuSans-30\"/>\n       <use x=\"190.869141\" xlink:href=\"#DejaVuSans-30\"/>\n      </g>\n     </g>\n    </g>\n   </g>\n   <g id=\"LineCollection_1\">\n    <path clip-path=\"url(#pc7eef905ad)\" d=\"M 69.036746 138.603882 \nL 69.036746 135.334248 \n\" style=\"fill:none;stroke:#000000;stroke-width:3;\"/>\n    <path clip-path=\"url(#pc7eef905ad)\" d=\"M 90.043805 138.757178 \nL 90.043805 135.178473 \n\" style=\"fill:none;stroke:#000000;stroke-width:3;\"/>\n    <path clip-path=\"url(#pc7eef905ad)\" d=\"M 111.050864 138.836499 \nL 111.050864 135.093539 \n\" style=\"fill:none;stroke:#000000;stroke-width:3;\"/>\n    <path clip-path=\"url(#pc7eef905ad)\" d=\"M 132.057923 140.110619 \nL 132.057923 133.832006 \n\" style=\"fill:none;stroke:#000000;stroke-width:3;\"/>\n    <path clip-path=\"url(#pc7eef905ad)\" d=\"M 153.064982 138.918403 \nL 153.064982 135.014488 \n\" style=\"fill:none;stroke:#000000;stroke-width:3;\"/>\n    <path clip-path=\"url(#pc7eef905ad)\" d=\"M 174.07204 138.640442 \nL 174.07204 135.304635 \n\" style=\"fill:none;stroke:#000000;stroke-width:3;\"/>\n    <path clip-path=\"url(#pc7eef905ad)\" d=\"M 195.079099 138.887739 \nL 195.079099 135.050513 \n\" style=\"fill:none;stroke:#000000;stroke-width:3;\"/>\n    <path clip-path=\"url(#pc7eef905ad)\" d=\"M 216.086158 138.91103 \nL 216.086158 135.040349 \n\" style=\"fill:none;stroke:#000000;stroke-width:3;\"/>\n    <path clip-path=\"url(#pc7eef905ad)\" d=\"M 237.093217 138.554193 \nL 237.093217 135.390135 \n\" style=\"fill:none;stroke:#000000;stroke-width:3;\"/>\n    <path clip-path=\"url(#pc7eef905ad)\" d=\"M 258.100276 139.191156 \nL 258.100276 134.760471 \n\" style=\"fill:none;stroke:#000000;stroke-width:3;\"/>\n    <path clip-path=\"url(#pc7eef905ad)\" d=\"M 279.107335 139.01746 \nL 279.107335 134.933718 \n\" style=\"fill:none;stroke:#000000;stroke-width:3;\"/>\n    <path clip-path=\"url(#pc7eef905ad)\" d=\"M 300.114393 139.637279 \nL 300.114393 134.286863 \n\" style=\"fill:none;stroke:#000000;stroke-width:3;\"/>\n    <path clip-path=\"url(#pc7eef905ad)\" d=\"M 321.121452 139.971451 \nL 321.121452 133.94303 \n\" style=\"fill:none;stroke:#000000;stroke-width:3;\"/>\n    <path clip-path=\"url(#pc7eef905ad)\" d=\"M 342.128511 139.885563 \nL 342.128511 134.036219 \n\" style=\"fill:none;stroke:#000000;stroke-width:3;\"/>\n    <path clip-path=\"url(#pc7eef905ad)\" d=\"M 363.13557 139.433769 \nL 363.13557 134.489793 \n\" style=\"fill:none;stroke:#000000;stroke-width:3;\"/>\n    <path clip-path=\"url(#pc7eef905ad)\" d=\"M 384.142629 138.60355 \nL 384.142629 135.333474 \n\" style=\"fill:none;stroke:#000000;stroke-width:3;\"/>\n   </g>\n   <g id=\"LineCollection_2\">\n    <path clip-path=\"url(#pc7eef905ad)\" d=\"M 69.036746 162.281189 \nL 69.036746 19.296 \n\" style=\"fill:none;stroke:#808080;\"/>\n    <path clip-path=\"url(#pc7eef905ad)\" d=\"M 90.043805 156.810593 \nL 90.043805 102.723524 \n\" style=\"fill:none;stroke:#808080;\"/>\n    <path clip-path=\"url(#pc7eef905ad)\" d=\"M 111.050864 183.51296 \nL 111.050864 91.000831 \n\" style=\"fill:none;stroke:#808080;\"/>\n    <path clip-path=\"url(#pc7eef905ad)\" d=\"M 132.057923 174.642577 \nL 132.057923 78.544212 \n\" style=\"fill:none;stroke:#808080;\"/>\n    <path clip-path=\"url(#pc7eef905ad)\" d=\"M 153.064982 252.155211 \nL 153.064982 90.314524 \n\" style=\"fill:none;stroke:#808080;\"/>\n    <path clip-path=\"url(#pc7eef905ad)\" d=\"M 174.07204 194.235951 \nL 174.07204 44.883614 \n\" style=\"fill:none;stroke:#808080;\"/>\n    <path clip-path=\"url(#pc7eef905ad)\" d=\"M 195.079099 181.910265 \nL 195.079099 38.012648 \n\" style=\"fill:none;stroke:#808080;\"/>\n    <path clip-path=\"url(#pc7eef905ad)\" d=\"M 216.086158 178.942891 \nL 216.086158 79.266223 \n\" style=\"fill:none;stroke:#808080;\"/>\n    <path clip-path=\"url(#pc7eef905ad)\" d=\"M 237.093217 166.402971 \nL 237.093217 63.032963 \n\" style=\"fill:none;stroke:#808080;\"/>\n    <path clip-path=\"url(#pc7eef905ad)\" d=\"M 258.100276 253.226319 \nL 258.100276 91.937062 \n\" style=\"fill:none;stroke:#808080;\"/>\n    <path clip-path=\"url(#pc7eef905ad)\" d=\"M 279.107335 172.063984 \nL 279.107335 93.908696 \n\" style=\"fill:none;stroke:#808080;\"/>\n    <path clip-path=\"url(#pc7eef905ad)\" d=\"M 300.114393 189.53101 \nL 300.114393 90.504939 \n\" style=\"fill:none;stroke:#808080;\"/>\n    <path clip-path=\"url(#pc7eef905ad)\" d=\"M 321.121452 243.526825 \nL 321.121452 74.271681 \n\" style=\"fill:none;stroke:#808080;\"/>\n    <path clip-path=\"url(#pc7eef905ad)\" d=\"M 342.128511 261.216 \nL 342.128511 92.762198 \n\" style=\"fill:none;stroke:#808080;\"/>\n    <path clip-path=\"url(#pc7eef905ad)\" d=\"M 363.13557 190.574348 \nL 363.13557 96.519031 \n\" style=\"fill:none;stroke:#808080;\"/>\n    <path clip-path=\"url(#pc7eef905ad)\" d=\"M 384.142629 162.396231 \nL 384.142629 99.656982 \n\" style=\"fill:none;stroke:#808080;\"/>\n   </g>\n   <g id=\"LineCollection_3\">\n    <path clip-path=\"url(#pc7eef905ad)\" d=\"M 69.036746 138.603882 \nL 69.036746 135.334248 \n\" style=\"fill:none;stroke:#000000;stroke-width:3;\"/>\n    <path clip-path=\"url(#pc7eef905ad)\" d=\"M 90.043805 138.757178 \nL 90.043805 135.178473 \n\" style=\"fill:none;stroke:#000000;stroke-width:3;\"/>\n    <path clip-path=\"url(#pc7eef905ad)\" d=\"M 111.050864 138.836499 \nL 111.050864 135.093539 \n\" style=\"fill:none;stroke:#000000;stroke-width:3;\"/>\n    <path clip-path=\"url(#pc7eef905ad)\" d=\"M 132.057923 140.110619 \nL 132.057923 133.832006 \n\" style=\"fill:none;stroke:#000000;stroke-width:3;\"/>\n    <path clip-path=\"url(#pc7eef905ad)\" d=\"M 153.064982 138.918403 \nL 153.064982 135.014488 \n\" style=\"fill:none;stroke:#000000;stroke-width:3;\"/>\n    <path clip-path=\"url(#pc7eef905ad)\" d=\"M 174.07204 138.640442 \nL 174.07204 135.304635 \n\" style=\"fill:none;stroke:#000000;stroke-width:3;\"/>\n    <path clip-path=\"url(#pc7eef905ad)\" d=\"M 195.079099 138.887739 \nL 195.079099 135.050513 \n\" style=\"fill:none;stroke:#000000;stroke-width:3;\"/>\n    <path clip-path=\"url(#pc7eef905ad)\" d=\"M 216.086158 138.91103 \nL 216.086158 135.040349 \n\" style=\"fill:none;stroke:#000000;stroke-width:3;\"/>\n    <path clip-path=\"url(#pc7eef905ad)\" d=\"M 237.093217 138.554193 \nL 237.093217 135.390135 \n\" style=\"fill:none;stroke:#000000;stroke-width:3;\"/>\n    <path clip-path=\"url(#pc7eef905ad)\" d=\"M 258.100276 139.191156 \nL 258.100276 134.760471 \n\" style=\"fill:none;stroke:#000000;stroke-width:3;\"/>\n    <path clip-path=\"url(#pc7eef905ad)\" d=\"M 279.107335 139.01746 \nL 279.107335 134.933718 \n\" style=\"fill:none;stroke:#000000;stroke-width:3;\"/>\n    <path clip-path=\"url(#pc7eef905ad)\" d=\"M 300.114393 139.637279 \nL 300.114393 134.286863 \n\" style=\"fill:none;stroke:#000000;stroke-width:3;\"/>\n    <path clip-path=\"url(#pc7eef905ad)\" d=\"M 321.121452 139.971451 \nL 321.121452 133.94303 \n\" style=\"fill:none;stroke:#000000;stroke-width:3;\"/>\n    <path clip-path=\"url(#pc7eef905ad)\" d=\"M 342.128511 139.885563 \nL 342.128511 134.036219 \n\" style=\"fill:none;stroke:#000000;stroke-width:3;\"/>\n    <path clip-path=\"url(#pc7eef905ad)\" d=\"M 363.13557 139.433769 \nL 363.13557 134.489793 \n\" style=\"fill:none;stroke:#000000;stroke-width:3;\"/>\n    <path clip-path=\"url(#pc7eef905ad)\" d=\"M 384.142629 138.60355 \nL 384.142629 135.333474 \n\" style=\"fill:none;stroke:#000000;stroke-width:3;\"/>\n   </g>\n   <g id=\"LineCollection_4\">\n    <path clip-path=\"url(#pc7eef905ad)\" d=\"M 69.036746 162.281189 \nL 69.036746 19.296 \n\" style=\"fill:none;stroke:#808080;\"/>\n    <path clip-path=\"url(#pc7eef905ad)\" d=\"M 90.043805 156.810593 \nL 90.043805 102.723524 \n\" style=\"fill:none;stroke:#808080;\"/>\n    <path clip-path=\"url(#pc7eef905ad)\" d=\"M 111.050864 183.51296 \nL 111.050864 91.000831 \n\" style=\"fill:none;stroke:#808080;\"/>\n    <path clip-path=\"url(#pc7eef905ad)\" d=\"M 132.057923 174.642577 \nL 132.057923 78.544212 \n\" style=\"fill:none;stroke:#808080;\"/>\n    <path clip-path=\"url(#pc7eef905ad)\" d=\"M 153.064982 252.155211 \nL 153.064982 90.314524 \n\" style=\"fill:none;stroke:#808080;\"/>\n    <path clip-path=\"url(#pc7eef905ad)\" d=\"M 174.07204 194.235951 \nL 174.07204 44.883614 \n\" style=\"fill:none;stroke:#808080;\"/>\n    <path clip-path=\"url(#pc7eef905ad)\" d=\"M 195.079099 181.910265 \nL 195.079099 38.012648 \n\" style=\"fill:none;stroke:#808080;\"/>\n    <path clip-path=\"url(#pc7eef905ad)\" d=\"M 216.086158 178.942891 \nL 216.086158 79.266223 \n\" style=\"fill:none;stroke:#808080;\"/>\n    <path clip-path=\"url(#pc7eef905ad)\" d=\"M 237.093217 166.402971 \nL 237.093217 63.032963 \n\" style=\"fill:none;stroke:#808080;\"/>\n    <path clip-path=\"url(#pc7eef905ad)\" d=\"M 258.100276 253.226319 \nL 258.100276 91.937062 \n\" style=\"fill:none;stroke:#808080;\"/>\n    <path clip-path=\"url(#pc7eef905ad)\" d=\"M 279.107335 172.063984 \nL 279.107335 93.908696 \n\" style=\"fill:none;stroke:#808080;\"/>\n    <path clip-path=\"url(#pc7eef905ad)\" d=\"M 300.114393 189.53101 \nL 300.114393 90.504939 \n\" style=\"fill:none;stroke:#808080;\"/>\n    <path clip-path=\"url(#pc7eef905ad)\" d=\"M 321.121452 243.526825 \nL 321.121452 74.271681 \n\" style=\"fill:none;stroke:#808080;\"/>\n    <path clip-path=\"url(#pc7eef905ad)\" d=\"M 342.128511 261.216 \nL 342.128511 92.762198 \n\" style=\"fill:none;stroke:#808080;\"/>\n    <path clip-path=\"url(#pc7eef905ad)\" d=\"M 363.13557 190.574348 \nL 363.13557 96.519031 \n\" style=\"fill:none;stroke:#808080;\"/>\n    <path clip-path=\"url(#pc7eef905ad)\" d=\"M 384.142629 162.396231 \nL 384.142629 99.656982 \n\" style=\"fill:none;stroke:#808080;\"/>\n   </g>\n   <g id=\"LineCollection_5\">\n    <path clip-path=\"url(#pc7eef905ad)\" d=\"M 69.036746 138.603882 \nL 69.036746 135.334248 \n\" style=\"fill:none;stroke:#000000;stroke-width:3;\"/>\n    <path clip-path=\"url(#pc7eef905ad)\" d=\"M 90.043805 138.757178 \nL 90.043805 135.178473 \n\" style=\"fill:none;stroke:#000000;stroke-width:3;\"/>\n    <path clip-path=\"url(#pc7eef905ad)\" d=\"M 111.050864 138.836499 \nL 111.050864 135.093539 \n\" style=\"fill:none;stroke:#000000;stroke-width:3;\"/>\n    <path clip-path=\"url(#pc7eef905ad)\" d=\"M 132.057923 140.110619 \nL 132.057923 133.832006 \n\" style=\"fill:none;stroke:#000000;stroke-width:3;\"/>\n    <path clip-path=\"url(#pc7eef905ad)\" d=\"M 153.064982 138.918403 \nL 153.064982 135.014488 \n\" style=\"fill:none;stroke:#000000;stroke-width:3;\"/>\n    <path clip-path=\"url(#pc7eef905ad)\" d=\"M 174.07204 138.640442 \nL 174.07204 135.304635 \n\" style=\"fill:none;stroke:#000000;stroke-width:3;\"/>\n    <path clip-path=\"url(#pc7eef905ad)\" d=\"M 195.079099 138.887739 \nL 195.079099 135.050513 \n\" style=\"fill:none;stroke:#000000;stroke-width:3;\"/>\n    <path clip-path=\"url(#pc7eef905ad)\" d=\"M 216.086158 138.91103 \nL 216.086158 135.040349 \n\" style=\"fill:none;stroke:#000000;stroke-width:3;\"/>\n    <path clip-path=\"url(#pc7eef905ad)\" d=\"M 237.093217 138.554193 \nL 237.093217 135.390135 \n\" style=\"fill:none;stroke:#000000;stroke-width:3;\"/>\n    <path clip-path=\"url(#pc7eef905ad)\" d=\"M 258.100276 139.191156 \nL 258.100276 134.760471 \n\" style=\"fill:none;stroke:#000000;stroke-width:3;\"/>\n    <path clip-path=\"url(#pc7eef905ad)\" d=\"M 279.107335 139.01746 \nL 279.107335 134.933718 \n\" style=\"fill:none;stroke:#000000;stroke-width:3;\"/>\n    <path clip-path=\"url(#pc7eef905ad)\" d=\"M 300.114393 139.637279 \nL 300.114393 134.286863 \n\" style=\"fill:none;stroke:#000000;stroke-width:3;\"/>\n    <path clip-path=\"url(#pc7eef905ad)\" d=\"M 321.121452 139.971451 \nL 321.121452 133.94303 \n\" style=\"fill:none;stroke:#000000;stroke-width:3;\"/>\n    <path clip-path=\"url(#pc7eef905ad)\" d=\"M 342.128511 139.885563 \nL 342.128511 134.036219 \n\" style=\"fill:none;stroke:#000000;stroke-width:3;\"/>\n    <path clip-path=\"url(#pc7eef905ad)\" d=\"M 363.13557 139.433769 \nL 363.13557 134.489793 \n\" style=\"fill:none;stroke:#000000;stroke-width:3;\"/>\n    <path clip-path=\"url(#pc7eef905ad)\" d=\"M 384.142629 138.60355 \nL 384.142629 135.333474 \n\" style=\"fill:none;stroke:#000000;stroke-width:3;\"/>\n   </g>\n   <g id=\"LineCollection_6\">\n    <path clip-path=\"url(#pc7eef905ad)\" d=\"M 69.036746 162.281189 \nL 69.036746 19.296 \n\" style=\"fill:none;stroke:#808080;\"/>\n    <path clip-path=\"url(#pc7eef905ad)\" d=\"M 90.043805 156.810593 \nL 90.043805 102.723524 \n\" style=\"fill:none;stroke:#808080;\"/>\n    <path clip-path=\"url(#pc7eef905ad)\" d=\"M 111.050864 183.51296 \nL 111.050864 91.000831 \n\" style=\"fill:none;stroke:#808080;\"/>\n    <path clip-path=\"url(#pc7eef905ad)\" d=\"M 132.057923 174.642577 \nL 132.057923 78.544212 \n\" style=\"fill:none;stroke:#808080;\"/>\n    <path clip-path=\"url(#pc7eef905ad)\" d=\"M 153.064982 252.155211 \nL 153.064982 90.314524 \n\" style=\"fill:none;stroke:#808080;\"/>\n    <path clip-path=\"url(#pc7eef905ad)\" d=\"M 174.07204 194.235951 \nL 174.07204 44.883614 \n\" style=\"fill:none;stroke:#808080;\"/>\n    <path clip-path=\"url(#pc7eef905ad)\" d=\"M 195.079099 181.910265 \nL 195.079099 38.012648 \n\" style=\"fill:none;stroke:#808080;\"/>\n    <path clip-path=\"url(#pc7eef905ad)\" d=\"M 216.086158 178.942891 \nL 216.086158 79.266223 \n\" style=\"fill:none;stroke:#808080;\"/>\n    <path clip-path=\"url(#pc7eef905ad)\" d=\"M 237.093217 166.402971 \nL 237.093217 63.032963 \n\" style=\"fill:none;stroke:#808080;\"/>\n    <path clip-path=\"url(#pc7eef905ad)\" d=\"M 258.100276 253.226319 \nL 258.100276 91.937062 \n\" style=\"fill:none;stroke:#808080;\"/>\n    <path clip-path=\"url(#pc7eef905ad)\" d=\"M 279.107335 172.063984 \nL 279.107335 93.908696 \n\" style=\"fill:none;stroke:#808080;\"/>\n    <path clip-path=\"url(#pc7eef905ad)\" d=\"M 300.114393 189.53101 \nL 300.114393 90.504939 \n\" style=\"fill:none;stroke:#808080;\"/>\n    <path clip-path=\"url(#pc7eef905ad)\" d=\"M 321.121452 243.526825 \nL 321.121452 74.271681 \n\" style=\"fill:none;stroke:#808080;\"/>\n    <path clip-path=\"url(#pc7eef905ad)\" d=\"M 342.128511 261.216 \nL 342.128511 92.762198 \n\" style=\"fill:none;stroke:#808080;\"/>\n    <path clip-path=\"url(#pc7eef905ad)\" d=\"M 363.13557 190.574348 \nL 363.13557 96.519031 \n\" style=\"fill:none;stroke:#808080;\"/>\n    <path clip-path=\"url(#pc7eef905ad)\" d=\"M 384.142629 162.396231 \nL 384.142629 99.656982 \n\" style=\"fill:none;stroke:#808080;\"/>\n   </g>\n   <g id=\"line2d_15\">\n    <defs>\n     <path d=\"M 0 3 \nC 0.795609 3 1.55874 2.683901 2.12132 2.12132 \nC 2.683901 1.55874 3 0.795609 3 0 \nC 3 -0.795609 2.683901 -1.55874 2.12132 -2.12132 \nC 1.55874 -2.683901 0.795609 -3 0 -3 \nC -0.795609 -3 -1.55874 -2.683901 -2.12132 -2.12132 \nC -2.683901 -1.55874 -3 -0.795609 -3 0 \nC -3 0.795609 -2.683901 1.55874 -2.12132 2.12132 \nC -1.55874 2.683901 -0.795609 3 0 3 \nz\n\" id=\"me9b07c2089\" style=\"stroke:#000000;\"/>\n    </defs>\n    <g clip-path=\"url(#pc7eef905ad)\">\n     <use style=\"stroke:#000000;\" x=\"69.036746\" xlink:href=\"#me9b07c2089\" y=\"136.969065\"/>\n     <use style=\"stroke:#000000;\" x=\"90.043805\" xlink:href=\"#me9b07c2089\" y=\"136.967826\"/>\n     <use style=\"stroke:#000000;\" x=\"111.050864\" xlink:href=\"#me9b07c2089\" y=\"136.965019\"/>\n     <use style=\"stroke:#000000;\" x=\"132.057923\" xlink:href=\"#me9b07c2089\" y=\"136.971313\"/>\n     <use style=\"stroke:#000000;\" x=\"153.064982\" xlink:href=\"#me9b07c2089\" y=\"136.966445\"/>\n     <use style=\"stroke:#000000;\" x=\"174.07204\" xlink:href=\"#me9b07c2089\" y=\"136.972539\"/>\n     <use style=\"stroke:#000000;\" x=\"195.079099\" xlink:href=\"#me9b07c2089\" y=\"136.969126\"/>\n     <use style=\"stroke:#000000;\" x=\"216.086158\" xlink:href=\"#me9b07c2089\" y=\"136.975689\"/>\n     <use style=\"stroke:#000000;\" x=\"237.093217\" xlink:href=\"#me9b07c2089\" y=\"136.972164\"/>\n     <use style=\"stroke:#000000;\" x=\"258.100276\" xlink:href=\"#me9b07c2089\" y=\"136.975813\"/>\n     <use style=\"stroke:#000000;\" x=\"279.107335\" xlink:href=\"#me9b07c2089\" y=\"136.975589\"/>\n     <use style=\"stroke:#000000;\" x=\"300.114393\" xlink:href=\"#me9b07c2089\" y=\"136.962071\"/>\n     <use style=\"stroke:#000000;\" x=\"321.121452\" xlink:href=\"#me9b07c2089\" y=\"136.95724\"/>\n     <use style=\"stroke:#000000;\" x=\"342.128511\" xlink:href=\"#me9b07c2089\" y=\"136.960891\"/>\n     <use style=\"stroke:#000000;\" x=\"363.13557\" xlink:href=\"#me9b07c2089\" y=\"136.961781\"/>\n     <use style=\"stroke:#000000;\" x=\"384.142629\" xlink:href=\"#me9b07c2089\" y=\"136.968512\"/>\n    </g>\n   </g>\n   <g id=\"line2d_16\">\n    <defs>\n     <path d=\"M 0 1.5 \nC 0.397805 1.5 0.77937 1.341951 1.06066 1.06066 \nC 1.341951 0.77937 1.5 0.397805 1.5 0 \nC 1.5 -0.397805 1.341951 -0.77937 1.06066 -1.06066 \nC 0.77937 -1.341951 0.397805 -1.5 0 -1.5 \nC -0.397805 -1.5 -0.77937 -1.341951 -1.06066 -1.06066 \nC -1.341951 -0.77937 -1.5 -0.397805 -1.5 0 \nC -1.5 0.397805 -1.341951 0.77937 -1.06066 1.06066 \nC -0.77937 1.341951 -0.397805 1.5 0 1.5 \nz\n\" id=\"m7ce349d875\" style=\"stroke:#000000;\"/>\n    </defs>\n    <g clip-path=\"url(#pc7eef905ad)\">\n     <use style=\"stroke:#000000;\" x=\"69.036746\" xlink:href=\"#m7ce349d875\" y=\"136.969065\"/>\n     <use style=\"stroke:#000000;\" x=\"90.043805\" xlink:href=\"#m7ce349d875\" y=\"136.967826\"/>\n     <use style=\"stroke:#000000;\" x=\"111.050864\" xlink:href=\"#m7ce349d875\" y=\"136.965019\"/>\n     <use style=\"stroke:#000000;\" x=\"132.057923\" xlink:href=\"#m7ce349d875\" y=\"136.971313\"/>\n     <use style=\"stroke:#000000;\" x=\"153.064982\" xlink:href=\"#m7ce349d875\" y=\"136.966445\"/>\n     <use style=\"stroke:#000000;\" x=\"174.07204\" xlink:href=\"#m7ce349d875\" y=\"136.972539\"/>\n     <use style=\"stroke:#000000;\" x=\"195.079099\" xlink:href=\"#m7ce349d875\" y=\"136.969126\"/>\n     <use style=\"stroke:#000000;\" x=\"216.086158\" xlink:href=\"#m7ce349d875\" y=\"136.975689\"/>\n     <use style=\"stroke:#000000;\" x=\"237.093217\" xlink:href=\"#m7ce349d875\" y=\"136.972164\"/>\n     <use style=\"stroke:#000000;\" x=\"258.100276\" xlink:href=\"#m7ce349d875\" y=\"136.975813\"/>\n     <use style=\"stroke:#000000;\" x=\"279.107335\" xlink:href=\"#m7ce349d875\" y=\"136.975589\"/>\n     <use style=\"stroke:#000000;\" x=\"300.114393\" xlink:href=\"#m7ce349d875\" y=\"136.962071\"/>\n     <use style=\"stroke:#000000;\" x=\"321.121452\" xlink:href=\"#m7ce349d875\" y=\"136.95724\"/>\n     <use style=\"stroke:#000000;\" x=\"342.128511\" xlink:href=\"#m7ce349d875\" y=\"136.960891\"/>\n     <use style=\"stroke:#000000;\" x=\"363.13557\" xlink:href=\"#m7ce349d875\" y=\"136.961781\"/>\n     <use style=\"stroke:#000000;\" x=\"384.142629\" xlink:href=\"#m7ce349d875\" y=\"136.968512\"/>\n    </g>\n   </g>\n   <g id=\"line2d_17\">\n    <g clip-path=\"url(#pc7eef905ad)\">\n     <use style=\"stroke:#000000;\" x=\"69.036746\" xlink:href=\"#me9b07c2089\" y=\"136.969065\"/>\n     <use style=\"stroke:#000000;\" x=\"90.043805\" xlink:href=\"#me9b07c2089\" y=\"136.967826\"/>\n     <use style=\"stroke:#000000;\" x=\"111.050864\" xlink:href=\"#me9b07c2089\" y=\"136.965019\"/>\n     <use style=\"stroke:#000000;\" x=\"132.057923\" xlink:href=\"#me9b07c2089\" y=\"136.971313\"/>\n     <use style=\"stroke:#000000;\" x=\"153.064982\" xlink:href=\"#me9b07c2089\" y=\"136.966445\"/>\n     <use style=\"stroke:#000000;\" x=\"174.07204\" xlink:href=\"#me9b07c2089\" y=\"136.972539\"/>\n     <use style=\"stroke:#000000;\" x=\"195.079099\" xlink:href=\"#me9b07c2089\" y=\"136.969126\"/>\n     <use style=\"stroke:#000000;\" x=\"216.086158\" xlink:href=\"#me9b07c2089\" y=\"136.975689\"/>\n     <use style=\"stroke:#000000;\" x=\"237.093217\" xlink:href=\"#me9b07c2089\" y=\"136.972164\"/>\n     <use style=\"stroke:#000000;\" x=\"258.100276\" xlink:href=\"#me9b07c2089\" y=\"136.975813\"/>\n     <use style=\"stroke:#000000;\" x=\"279.107335\" xlink:href=\"#me9b07c2089\" y=\"136.975589\"/>\n     <use style=\"stroke:#000000;\" x=\"300.114393\" xlink:href=\"#me9b07c2089\" y=\"136.962071\"/>\n     <use style=\"stroke:#000000;\" x=\"321.121452\" xlink:href=\"#me9b07c2089\" y=\"136.95724\"/>\n     <use style=\"stroke:#000000;\" x=\"342.128511\" xlink:href=\"#me9b07c2089\" y=\"136.960891\"/>\n     <use style=\"stroke:#000000;\" x=\"363.13557\" xlink:href=\"#me9b07c2089\" y=\"136.961781\"/>\n     <use style=\"stroke:#000000;\" x=\"384.142629\" xlink:href=\"#me9b07c2089\" y=\"136.968512\"/>\n    </g>\n   </g>\n   <g id=\"line2d_18\">\n    <g clip-path=\"url(#pc7eef905ad)\">\n     <use style=\"stroke:#000000;\" x=\"69.036746\" xlink:href=\"#m7ce349d875\" y=\"136.969065\"/>\n     <use style=\"stroke:#000000;\" x=\"90.043805\" xlink:href=\"#m7ce349d875\" y=\"136.967826\"/>\n     <use style=\"stroke:#000000;\" x=\"111.050864\" xlink:href=\"#m7ce349d875\" y=\"136.965019\"/>\n     <use style=\"stroke:#000000;\" x=\"132.057923\" xlink:href=\"#m7ce349d875\" y=\"136.971313\"/>\n     <use style=\"stroke:#000000;\" x=\"153.064982\" xlink:href=\"#m7ce349d875\" y=\"136.966445\"/>\n     <use style=\"stroke:#000000;\" x=\"174.07204\" xlink:href=\"#m7ce349d875\" y=\"136.972539\"/>\n     <use style=\"stroke:#000000;\" x=\"195.079099\" xlink:href=\"#m7ce349d875\" y=\"136.969126\"/>\n     <use style=\"stroke:#000000;\" x=\"216.086158\" xlink:href=\"#m7ce349d875\" y=\"136.975689\"/>\n     <use style=\"stroke:#000000;\" x=\"237.093217\" xlink:href=\"#m7ce349d875\" y=\"136.972164\"/>\n     <use style=\"stroke:#000000;\" x=\"258.100276\" xlink:href=\"#m7ce349d875\" y=\"136.975813\"/>\n     <use style=\"stroke:#000000;\" x=\"279.107335\" xlink:href=\"#m7ce349d875\" y=\"136.975589\"/>\n     <use style=\"stroke:#000000;\" x=\"300.114393\" xlink:href=\"#m7ce349d875\" y=\"136.962071\"/>\n     <use style=\"stroke:#000000;\" x=\"321.121452\" xlink:href=\"#m7ce349d875\" y=\"136.95724\"/>\n     <use style=\"stroke:#000000;\" x=\"342.128511\" xlink:href=\"#m7ce349d875\" y=\"136.960891\"/>\n     <use style=\"stroke:#000000;\" x=\"363.13557\" xlink:href=\"#m7ce349d875\" y=\"136.961781\"/>\n     <use style=\"stroke:#000000;\" x=\"384.142629\" xlink:href=\"#m7ce349d875\" y=\"136.968512\"/>\n    </g>\n   </g>\n   <g id=\"line2d_19\">\n    <g clip-path=\"url(#pc7eef905ad)\">\n     <use style=\"stroke:#000000;\" x=\"69.036746\" xlink:href=\"#me9b07c2089\" y=\"136.969065\"/>\n     <use style=\"stroke:#000000;\" x=\"90.043805\" xlink:href=\"#me9b07c2089\" y=\"136.967826\"/>\n     <use style=\"stroke:#000000;\" x=\"111.050864\" xlink:href=\"#me9b07c2089\" y=\"136.965019\"/>\n     <use style=\"stroke:#000000;\" x=\"132.057923\" xlink:href=\"#me9b07c2089\" y=\"136.971313\"/>\n     <use style=\"stroke:#000000;\" x=\"153.064982\" xlink:href=\"#me9b07c2089\" y=\"136.966445\"/>\n     <use style=\"stroke:#000000;\" x=\"174.07204\" xlink:href=\"#me9b07c2089\" y=\"136.972539\"/>\n     <use style=\"stroke:#000000;\" x=\"195.079099\" xlink:href=\"#me9b07c2089\" y=\"136.969126\"/>\n     <use style=\"stroke:#000000;\" x=\"216.086158\" xlink:href=\"#me9b07c2089\" y=\"136.975689\"/>\n     <use style=\"stroke:#000000;\" x=\"237.093217\" xlink:href=\"#me9b07c2089\" y=\"136.972164\"/>\n     <use style=\"stroke:#000000;\" x=\"258.100276\" xlink:href=\"#me9b07c2089\" y=\"136.975813\"/>\n     <use style=\"stroke:#000000;\" x=\"279.107335\" xlink:href=\"#me9b07c2089\" y=\"136.975589\"/>\n     <use style=\"stroke:#000000;\" x=\"300.114393\" xlink:href=\"#me9b07c2089\" y=\"136.962071\"/>\n     <use style=\"stroke:#000000;\" x=\"321.121452\" xlink:href=\"#me9b07c2089\" y=\"136.95724\"/>\n     <use style=\"stroke:#000000;\" x=\"342.128511\" xlink:href=\"#me9b07c2089\" y=\"136.960891\"/>\n     <use style=\"stroke:#000000;\" x=\"363.13557\" xlink:href=\"#me9b07c2089\" y=\"136.961781\"/>\n     <use style=\"stroke:#000000;\" x=\"384.142629\" xlink:href=\"#me9b07c2089\" y=\"136.968512\"/>\n    </g>\n   </g>\n   <g id=\"line2d_20\">\n    <g clip-path=\"url(#pc7eef905ad)\">\n     <use style=\"stroke:#000000;\" x=\"69.036746\" xlink:href=\"#m7ce349d875\" y=\"136.969065\"/>\n     <use style=\"stroke:#000000;\" x=\"90.043805\" xlink:href=\"#m7ce349d875\" y=\"136.967826\"/>\n     <use style=\"stroke:#000000;\" x=\"111.050864\" xlink:href=\"#m7ce349d875\" y=\"136.965019\"/>\n     <use style=\"stroke:#000000;\" x=\"132.057923\" xlink:href=\"#m7ce349d875\" y=\"136.971313\"/>\n     <use style=\"stroke:#000000;\" x=\"153.064982\" xlink:href=\"#m7ce349d875\" y=\"136.966445\"/>\n     <use style=\"stroke:#000000;\" x=\"174.07204\" xlink:href=\"#m7ce349d875\" y=\"136.972539\"/>\n     <use style=\"stroke:#000000;\" x=\"195.079099\" xlink:href=\"#m7ce349d875\" y=\"136.969126\"/>\n     <use style=\"stroke:#000000;\" x=\"216.086158\" xlink:href=\"#m7ce349d875\" y=\"136.975689\"/>\n     <use style=\"stroke:#000000;\" x=\"237.093217\" xlink:href=\"#m7ce349d875\" y=\"136.972164\"/>\n     <use style=\"stroke:#000000;\" x=\"258.100276\" xlink:href=\"#m7ce349d875\" y=\"136.975813\"/>\n     <use style=\"stroke:#000000;\" x=\"279.107335\" xlink:href=\"#m7ce349d875\" y=\"136.975589\"/>\n     <use style=\"stroke:#000000;\" x=\"300.114393\" xlink:href=\"#m7ce349d875\" y=\"136.962071\"/>\n     <use style=\"stroke:#000000;\" x=\"321.121452\" xlink:href=\"#m7ce349d875\" y=\"136.95724\"/>\n     <use style=\"stroke:#000000;\" x=\"342.128511\" xlink:href=\"#m7ce349d875\" y=\"136.960891\"/>\n     <use style=\"stroke:#000000;\" x=\"363.13557\" xlink:href=\"#m7ce349d875\" y=\"136.961781\"/>\n     <use style=\"stroke:#000000;\" x=\"384.142629\" xlink:href=\"#m7ce349d875\" y=\"136.968512\"/>\n    </g>\n   </g>\n   <g id=\"patch_3\">\n    <path d=\"M 48.029688 273.312 \nL 48.029688 7.2 \n\" style=\"fill:none;stroke:#000000;stroke-linecap:square;stroke-linejoin:miter;stroke-width:0.8;\"/>\n   </g>\n   <g id=\"patch_4\">\n    <path d=\"M 405.149688 273.312 \nL 405.149688 7.2 \n\" style=\"fill:none;stroke:#000000;stroke-linecap:square;stroke-linejoin:miter;stroke-width:0.8;\"/>\n   </g>\n   <g id=\"patch_5\">\n    <path d=\"M 48.029688 273.312 \nL 405.149688 273.312 \n\" style=\"fill:none;stroke:#000000;stroke-linecap:square;stroke-linejoin:miter;stroke-width:0.8;\"/>\n   </g>\n   <g id=\"patch_6\">\n    <path d=\"M 48.029688 7.2 \nL 405.149688 7.2 \n\" style=\"fill:none;stroke:#000000;stroke-linecap:square;stroke-linejoin:miter;stroke-width:0.8;\"/>\n   </g>\n  </g>\n </g>\n <defs>\n  <clipPath id=\"pc7eef905ad\">\n   <rect height=\"266.112\" width=\"357.12\" x=\"48.029688\" y=\"7.2\"/>\n  </clipPath>\n </defs>\n</svg>\n",
      "image/png": "[encoded data removed]"
     },
     "metadata": {}
    }
   ],
   "metadata": {}
  },
  {
   "cell_type": "markdown",
   "source": [
    "## Interictal"
   ],
   "metadata": {}
  },
  {
   "cell_type": "code",
   "execution_count": 13,
   "source": [
    "pat1_interictal_description = df[df['class'] == 0].iloc[:, 3:-1].describe().compute()\n"
   ],
   "outputs": [],
   "metadata": {}
  },
  {
   "cell_type": "code",
   "execution_count": null,
   "source": [
    "pat1_interictal_description"
   ],
   "outputs": [],
   "metadata": {}
  },
  {
   "cell_type": "code",
   "execution_count": null,
   "source": [
    "mins = pat1_interictal_description.iloc[3]\n",
    "maxes = pat1_interictal_description.iloc[7]\n",
    "means = pat1_interictal_description.iloc[1]\n",
    "std = pat1_interictal_description.iloc[2]"
   ],
   "outputs": [],
   "metadata": {}
  },
  {
   "cell_type": "code",
   "execution_count": null,
   "source": [
    "# create stacked errorbars:\n",
    "numOfCh = pat1_interictal_description.shape[1]\n",
    "plt.errorbar(np.arange(numOfCh), means, std, fmt='ok', lw=3)\n",
    "plt.errorbar(np.arange(numOfCh), means, [means - mins, maxes - means],\n",
    "             fmt='.k', ecolor='gray', lw=1)\n",
    "plt.xlim(-1, numOfCh)\n",
    "plt.show()"
   ],
   "outputs": [],
   "metadata": {}
  },
  {
   "cell_type": "markdown",
   "source": [
    "# Analyze data by 1 hour blocks = every 6th segments\n",
    "Preictal training files after segment 150 or 25 hours can be viewed as extra files."
   ],
   "metadata": {}
  },
  {
   "cell_type": "code",
   "execution_count": null,
   "source": [
    "pdf_interictal_block1 = df[df['block_id'] == 1].compute()"
   ],
   "outputs": [],
   "metadata": {}
  },
  {
   "cell_type": "code",
   "execution_count": null,
   "source": [
    "pdf_interictal_block1['segment'].value_counts()"
   ],
   "outputs": [],
   "metadata": {}
  },
  {
   "cell_type": "markdown",
   "source": [
    "## Plot the first 10 minutes of block 1"
   ],
   "metadata": {}
  },
  {
   "cell_type": "code",
   "execution_count": null,
   "source": [
    "pdf_seg1_block1 = pdf_interictal_block1.loc[(\n",
    "    pdf_interictal_block1['segment'] == 1)].iloc[:, 3:-1]\n",
    "pdf_seg1_block1.shape"
   ],
   "outputs": [],
   "metadata": {}
  },
  {
   "cell_type": "code",
   "execution_count": null,
   "source": [
    "pdf_seg1_block1.plot(legend=False)"
   ],
   "outputs": [],
   "metadata": {}
  },
  {
   "cell_type": "markdown",
   "source": [
    "## Plot the entire one hour of block 1"
   ],
   "metadata": {}
  },
  {
   "cell_type": "code",
   "execution_count": null,
   "source": [],
   "outputs": [],
   "metadata": {}
  }
 ],
 "metadata": {
  "orig_nbformat": 4,
  "language_info": {
   "name": "python",
   "version": "3.9.6",
   "mimetype": "text/x-python",
   "codemirror_mode": {
    "name": "ipython",
    "version": 3
   },
   "pygments_lexer": "ipython3",
   "nbconvert_exporter": "python",
   "file_extension": ".py"
  },
  "kernelspec": {
   "name": "python3",
   "display_name": "Python 3.9.6 64-bit ('nma-dl': conda)"
  },
  "interpreter": {
   "hash": "0868085fcb6aca0e128a9d93c05f533d33aad3914f8f9f812b7cf13a20250908"
  }
 },
 "nbformat": 4,
 "nbformat_minor": 2
}