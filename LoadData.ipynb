{
 "cells": [
  {
   "cell_type": "code",
   "execution_count": null,
   "source": [
    "## Watch this to understand how to use the ecosystem daata as quickly as possible\n",
    "# https: // www.dropbox.com/sh/iysbzchdix2dc55/AAD9t53ntFNtTbyAYyIIdtjRa?dl = 0\n",
    "# https://www.kaggle.com/c/melbourne-university-seizure-prediction\n",
    "# Dr Levin Kuhlmann (levin.kuhlmann@monash.edu),"
   ],
   "outputs": [],
   "metadata": {}
  },
  {
   "cell_type": "markdown",
   "source": [
    "## Data - background"
   ],
   "metadata": {}
  },
  {
   "cell_type": "code",
   "execution_count": null,
   "source": [
    "'''\n",
    "There is emerging evidence that the temporal dynamics of brain activity can be classified into 4 states: \n",
    "   - Interictal (between seizures, or baseline), \n",
    "   - Preictal (prior to seizure), \n",
    "   - Ictal (seizure), and \n",
    "   - Post-ictal (after seizures). \n",
    "Seizure forecasting requires the ability to reliably identify a preictal state that can be differentiated from the interictal, ictal, and postictal state. \n",
    "The primary challenge in seizure forecasting is differentiating between the preictal and interictal states. \n",
    "The main goals of this ecosystem are to advance the accurate classification of the preictal brain state in humans with epilepsy and to advance our understanding of epilepsy.\n",
    "\n",
    "The dataset contains iterictal and preictal data from the Melbourne-NeuroVista seizure trial and the Melbourne-University AES-MathWorks-NIH Seizure Prediction Challenge for the purposes of advancing seizure prediction research.\n",
    "https://www.kaggle.com/c/melbourne-university-seizure-prediction\n",
    "   - requires use of a Python-based API available on GitHub (for best results use the latest version) \n",
    "   - use the Python API to download data and store it to file once, rather than merging the API into your prediction algorithm or analysis code and unnecessarily repeatedly downloading large amounts \n",
    "   - Download data using the ‘neurovista_contest_data_downloader.py’ script.\n",
    "   - You can view the data on the Seer web-browser-based data viewer, which also requires a Seer username and password for login. The viewer can be accessed https://app.seermedical.com/au \n",
    "\n",
    "The contest data challenge\n",
    "   - Human brain activity was recorded in the form of intracranial EEG (iEEG) \n",
    "   - iEEG was sampled from 16 electrodes at 400 Hz, and recorded voltages were referenced to the electrode group average. \n",
    "   - The challenge is to distinguish between ten minute long data clips covering an hour prior to a seizure, and ten minute iEEG clips of interictal activity. \n",
    "   - Only lead seizures, defined here as seizures occurring four hours or more after another seizure, are included in the training and testing data sets.\n",
    "   - interictal data segments were restricted to be at least four hours before or after any seizure.\n",
    "\n",
    "The contest dataset\n",
    "   - The iEEG data segments are downloaded to folders containing training and testing data for each human patient\n",
    "   - Data can be downloaded by running neurovista_contest_data_downloader.py in the seer-py/Examples folder cloned from Github\n",
    "   - Training data\n",
    "      - The training data is organized into ten minute EEG clips labeled \"Preictal\" for pre-seizure data segments, or \"Interictal\" for non-seizure data segments.\n",
    "      - Training data segments are numbered sequentially.\n",
    "      - PatITrain_J_K - the Jth training data segment corresponding to the Kth class (K=0 for interictal, K=1 for preictal) for the Ith patient (there are three patients).\n",
    "      - It is possible to determine which 10 minute segments belong to specific 1 hour blocks for the training data by grouping every 6 blocks based on the index J in 'PatITrain_J_K' (i.e. block index = ceil(J/6) ). \n",
    "         - Use the modulo operator (i.e. segment position = ((J-1) % 6)+1 ).\n",
    "         - For preictal training segments 'PatITrain_J_1' for J > 150 this method cannot be applied either and these segments can be viewed as extra files and it is up to the user if they wish to use them in training.\n",
    "   - Testing data\n",
    "      - Testing data are in random order.\n",
    "      - PatITest_J_0 - the Jth testing data segment corresponding to the Ith patient. (Note 0 in the filename does not indicate any class).\n",
    "   - Preictal data\n",
    "      - Preictal training and testing data segments are provided covering one hour prior to seizure with a five minute seizure horizon. (i.e. from 1:05 to 0:05 before seizure onset.) \n",
    "   - Interictal data\n",
    "      - one hour sequences of interictal ten minute data segments are provided. \n",
    "      - The interictal data were chosen randomly from the full data record, with the restriction that interictal segments be at least 4 hours away from any seizure, to avoid contamination with preictal or postictal signals.\n",
    "   - The class labels for the training and testing sets are provided as separate files:\n",
    "      - contest_train_data_labels.csv – training set labels for all patients\n",
    "      - contest_test_data_labels_public.csv – test set labels for all patients\n",
    "      - only the ‘public’ test set (30% of the test set) labels from the ‘Melbourne-University AES-MathWorks-NIH Seizure Prediction Challenge’ are provided. \n",
    "\n",
    "Data Caveats\n",
    "   - Any part of any 10-minute data segment can potentially contain “data drop-out” where the intracranial brain implant has temporarily failed to record data. This data drop-out corresponds to iEEG signal values of zeros across all channels at a given time sample. \n",
    "   - The data may also contain artifacts such as large amplitude rapid signal transitions that can be removed from analysis.\n",
    "\n",
    "Algorithms\n",
    "   - The code for the top algorithms from the ‘Melbourne-University AES-MathWorks-NIH Seizure Prediction Challenge’\n",
    "      - https://github.com/epilepsyecosystem \n",
    "   -  To share code on https://github.com/epilepsyecosystem you must contact Dr Levin Kuhlmann (levin.kuhlmann@monash.edu) to be invited to become a member of the GitHub organisation.\n",
    "\n",
    "Benchmarking\n",
    "   - Contact Dr Levin Kuhlmann (levin.kuhlmann@monash.edu) to submit complete test set predictions (predictions should be scaled between 0 to 1 as an estimate of preictal probability) \n",
    "   - Submit a solution file and obtain Area Under the Curve (AUC) performance scores for algorithm for the private test set (as per the terms and conditions). \n",
    "   - Algorithms are ranked on the evolving ecosystem leaderboard.  \n",
    "   - The top algorithms in the ecosystem will have the opportunity of being annually evaluated on the full dataset of 15 patients from the NeuroVista trial. \n",
    "   - To participate in the ultimate benchmark test, people are required to:\n",
    "      - Prepare algorithms with Python 3 (preferably using Anaconda)\n",
    "      - Make algorithms efficient such that the time taken to classify a 10 minute data segment is at most 30 seconds on a single core.\n",
    "         - This duration needs to include all feature calculation and classification steps of a pretrained algorithm.\n",
    "      - Make algorithms that utilise at most 100 MB of RAM when classifying a 10 minute data segment.\n",
    "      - Submit code so that your algorithm can easily be retrained and tested on new data (using the same filename structure given for the contest data) and different data segment file durations by the independent evaluator.\n",
    "      - CodeEvaluationDocs\n",
    "         - https://github.com/epilepsyecosystem/CodeEvaluationDocs\n",
    "'''"
   ],
   "outputs": [],
   "metadata": {}
  },
  {
   "cell_type": "code",
   "execution_count": null,
   "source": [
    "'''\n",
    "'''"
   ],
   "outputs": [],
   "metadata": {}
  },
  {
   "cell_type": "markdown",
   "source": [
    "## Imports"
   ],
   "metadata": {}
  },
  {
   "cell_type": "code",
   "execution_count": 4,
   "source": [
    "import pandas as pd\n",
    "import scipy.io as sio\n",
    "import numpy as np\n",
    "import os\n",
    "import glob\n"
   ],
   "outputs": [],
   "metadata": {}
  },
  {
   "cell_type": "markdown",
   "source": [
    "## Load .mat files"
   ],
   "metadata": {}
  },
  {
   "cell_type": "code",
   "execution_count": 5,
   "source": [
    "data_root = '/Users/Shared/Box/Neurovista'\n",
    "study = 'Pat1Train'\n",
    "#data_file = 'Pat1Train_1_1.mat'\n",
    "header = ['ch0',\t'ch1',\t'ch2',\t'ch3',\t'ch4',\t'ch5',\t'ch6',\t'ch7',\t'ch8',\t'ch9',\t'ch10',\t'ch11',\t'ch12',\t'ch13',\t'ch14',\t'ch15']\n",
    "studyHeader = ['study', 'segment', 'type']\n",
    "studyHeader_train = ['study','block_id', 'segment', 'type']\n",
    "analysis_root = '/Users/Shared/Box/Neurovista/analysis'"
   ],
   "outputs": [],
   "metadata": {}
  },
  {
   "cell_type": "code",
   "execution_count": null,
   "source": [
    "test_labels = pd.read_csv('/Users/Shared/Box/Neurovista/contest_test_data_labels_public.csv')\n",
    "test_labels_public = test_labels[test_labels['usage']=='Public']\n",
    "# new data frame with split value columns\n",
    "new = test_labels_public[\"image\"].str.split(\"_\", n = 2, expand = True)\n",
    "  \n",
    "# making separate first name column from new data frame\n",
    "test_labels_public[\"patient\"]= new[0]\n",
    "  \n",
    "# making separate last name column from new data frame\n",
    "test_labels_public[\"segment\"]= new[1]\n",
    "\n",
    "test_labels_public[\"class\"] = test_labels_public[\"class\"].astype(int)\n",
    "test_labels_public = test_labels_public[test_labels_public['patient']==study]\n",
    "\n",
    "test_labels_public"
   ],
   "outputs": [],
   "metadata": {}
  }
 ],
 "metadata": {
  "orig_nbformat": 4,
  "language_info": {
   "name": "python",
   "version": "3.9.6",
   "mimetype": "text/x-python",
   "codemirror_mode": {
    "name": "ipython",
    "version": 3
   },
   "pygments_lexer": "ipython3",
   "nbconvert_exporter": "python",
   "file_extension": ".py"
  },
  "kernelspec": {
   "name": "python3",
   "display_name": "Python 3.9.6 64-bit ('nma-dl': conda)"
  },
  "interpreter": {
   "hash": "0868085fcb6aca0e128a9d93c05f533d33aad3914f8f9f812b7cf13a20250908"
  }
 },
 "nbformat": 4,
 "nbformat_minor": 2
}