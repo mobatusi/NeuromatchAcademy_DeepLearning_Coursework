{
 "cells": [
  {
   "cell_type": "markdown",
   "source": [
    "## Perform Basic Preprocessing"
   ],
   "metadata": {}
  },
  {
   "cell_type": "code",
   "execution_count": null,
   "source": [
    "# Remove line frequency interference\n",
    "raw.notch_filter([60], trans_bandwidth=3)\n",
    "\n",
    "# drop bad channels\n",
    "raw.drop_channels(raw.info['bads'])\n",
    "\n",
    "# downsample.\n",
    "epochs.resample(200)  # Hz, will also load the data for us\n",
    "\n",
    "# covariance computations \n",
    "mne.compute_raw_covariance()"
   ],
   "outputs": [],
   "metadata": {}
  },
  {
   "cell_type": "markdown",
   "source": [
    "## Rejecting bad data spans (Data Dropouts)"
   ],
   "metadata": {}
  },
  {
   "cell_type": "markdown",
   "source": [
    "## Rejecting Epochs based on channel amplitude"
   ],
   "metadata": {}
  },
  {
   "cell_type": "code",
   "execution_count": null,
   "source": [
    "# http://autoreject.github.io/\n",
    "#  mne.Epochs "
   ],
   "outputs": [],
   "metadata": {}
  },
  {
   "cell_type": "markdown",
   "source": [
    "## Compute frequency features of the data"
   ],
   "metadata": {}
  },
  {
   "cell_type": "code",
   "execution_count": null,
   "source": [
    "# Compute the signal power in the gamma (30-90Hz) band\n",
    "sfreq = 10\n",
    "gamma_power_t = evoked.copy().filter(30, 90).apply_hilbert(\n",
    "    envelope=True).resample(sfreq)\n",
    "gamma_info = gamma_power_t.info"
   ],
   "outputs": [],
   "metadata": {}
  },
  {
   "cell_type": "markdown",
   "source": [
    "## Compute Source Power Spectral density (PSD) in a label"
   ],
   "metadata": {}
  },
  {
   "cell_type": "code",
   "execution_count": null,
   "source": [
    "# plt.plot(stc.times, stc.data.T)\n",
    "# plt.xlabel('Frequency (Hz)')\n",
    "# plt.ylabel('PSD (dB)')\n",
    "# plt.title('Source Power Spectrum (PSD)')\n",
    "# plt.show()\n",
    "# mne.io.Raw.plot_psd()\n",
    "# mne.time_frequency.psd_welch()"
   ],
   "outputs": [],
   "metadata": {}
  },
  {
   "cell_type": "markdown",
   "source": [
    "## Time-Frequency Analysis"
   ],
   "metadata": {}
  },
  {
   "cell_type": "code",
   "execution_count": null,
   "source": [
    "#  mne.time_frequency "
   ],
   "outputs": [],
   "metadata": {}
  }
 ],
 "metadata": {
  "orig_nbformat": 4,
  "language_info": {
   "name": "python",
   "version": "3.9.6",
   "mimetype": "text/x-python",
   "codemirror_mode": {
    "name": "ipython",
    "version": 3
   },
   "pygments_lexer": "ipython3",
   "nbconvert_exporter": "python",
   "file_extension": ".py"
  },
  "kernelspec": {
   "name": "python3",
   "display_name": "Python 3.9.6 64-bit ('nma-dl': conda)"
  },
  "interpreter": {
   "hash": "0868085fcb6aca0e128a9d93c05f533d33aad3914f8f9f812b7cf13a20250908"
  }
 },
 "nbformat": 4,
 "nbformat_minor": 2
}