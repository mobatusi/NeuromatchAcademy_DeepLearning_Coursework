{
 "cells": [
  {
   "cell_type": "code",
   "execution_count": 2,
   "source": [
    "import pandas as pd"
   ],
   "outputs": [],
   "metadata": {}
  },
  {
   "cell_type": "code",
   "execution_count": null,
   "source": [
    "# Headers to be used in dataframe\n",
    "header = ['ch0',\t'ch1',\t'ch2',\t'ch3',\t'ch4',\t'ch5',\t'ch6',\t'ch7',\t'ch8',\t'ch9',\t'ch10',\t'ch11',\t'ch12',\t'ch13',\t'ch14',\t'ch15']\n",
    "studyHeader = ['study', 'segment', 'class']\n",
    "studyHeader_train = ['study','block_id', 'segment', 'class']"
   ],
   "outputs": [],
   "metadata": {}
  },
  {
   "cell_type": "code",
   "execution_count": null,
   "source": [
    "# List matFile in directory\n",
    "matFile_Pat1Test = os.listdir(matRoot_Pat1Test)\n",
    "matfile = matFile_Pat1Test[0]\n",
    "print(os.path.join(matRoot_Pat1Test,matfile))\n",
    "print(os.path.join(csvRoot_Pat1Test,matfile.split('.')[0] + '.csv'))"
   ],
   "outputs": [],
   "metadata": {}
  },
  {
   "cell_type": "code",
   "execution_count": null,
   "source": [
    "def convertMatToCsv(matFilePath, csvOutputPath):\n",
    "  '''\n",
    "  convertMatToCsv converts patient mat files to csv \n",
    "  param matFilePath: the file path of the mat file\n",
    "  parm csvOutputPath: the directory to save the converted csv file\n",
    "  return: None\n",
    "  '''\n",
    "  \n",
    "  matfile = matFilePath.split('/')[-1].split('.')[0]\n",
    "  csvFile = os.path.join(csvOutputPath,matfile + '.csv')\n",
    "\n",
    "  # Check if output file already exists\n",
    "  if not os.path.exists(csvFile):\n",
    "    # Load the mat file to scipy\n",
    "    try:\n",
    "      mat = scipy.io.loadmat(matFilePath)['data']\n",
    "\n",
    "      # Create new columns that include patient segment and class\n",
    "      newColumns = [matFilePath.split('/')[-1].split('.')[0].split('_')] * np.shape(mat)[0]\n",
    "      study_df = pd.DataFrame(newColumns, columns=studyHeader)\n",
    "      mat_df = pd.DataFrame(mat, columns=header)\n",
    "      study_mat_df = pd.concat([study_df, mat_df], axis=1)\n",
    "      #  Pat1Train_df = pd.concat([Pat1Train_df,result])\n",
    "      study_mat_df.to_csv(csvFile)\n",
    "    except:\n",
    "      print(f'Unable to convert {matFilePath}')\n",
    "  else:\n",
    "    print(f'{csvFile} exists')"
   ],
   "outputs": [],
   "metadata": {}
  },
  {
   "cell_type": "code",
   "execution_count": null,
   "source": [
    "# To Do:\n",
    "# Update convertMatToCsv function to take into account test vs. train data\n",
    "# add block_id to train data"
   ],
   "outputs": [],
   "metadata": {}
  },
  {
   "cell_type": "markdown",
   "source": [
    "## Convert Pat1_Train to CSV\n",
    "\n",
    "\n"
   ],
   "metadata": {}
  },
  {
   "cell_type": "code",
   "execution_count": 4,
   "source": [
    "pd.DataFrame()"
   ],
   "outputs": [
    {
     "output_type": "execute_result",
     "data": {
      "text/plain": [
       "Empty DataFrame\n",
       "Columns: []\n",
       "Index: []"
      ],
      "text/html": [
       "<div>\n",
       "<style scoped>\n",
       "    .dataframe tbody tr th:only-of-type {\n",
       "        vertical-align: middle;\n",
       "    }\n",
       "\n",
       "    .dataframe tbody tr th {\n",
       "        vertical-align: top;\n",
       "    }\n",
       "\n",
       "    .dataframe thead th {\n",
       "        text-align: right;\n",
       "    }\n",
       "</style>\n",
       "<table border=\"1\" class=\"dataframe\">\n",
       "  <thead>\n",
       "    <tr style=\"text-align: right;\">\n",
       "      <th></th>\n",
       "    </tr>\n",
       "  </thead>\n",
       "  <tbody>\n",
       "  </tbody>\n",
       "</table>\n",
       "</div>"
      ]
     },
     "metadata": {},
     "execution_count": 4
    }
   ],
   "metadata": {}
  },
  {
   "cell_type": "markdown",
   "source": [
    "## Convert Pat1_Test to CSV"
   ],
   "metadata": {}
  }
 ],
 "metadata": {
  "orig_nbformat": 4,
  "language_info": {
   "name": "python",
   "version": "3.9.6",
   "mimetype": "text/x-python",
   "codemirror_mode": {
    "name": "ipython",
    "version": 3
   },
   "pygments_lexer": "ipython3",
   "nbconvert_exporter": "python",
   "file_extension": ".py"
  },
  "kernelspec": {
   "name": "python3",
   "display_name": "Python 3.9.6 64-bit ('nma-dl': conda)"
  },
  "interpreter": {
   "hash": "0868085fcb6aca0e128a9d93c05f533d33aad3914f8f9f812b7cf13a20250908"
  }
 },
 "nbformat": 4,
 "nbformat_minor": 2
}