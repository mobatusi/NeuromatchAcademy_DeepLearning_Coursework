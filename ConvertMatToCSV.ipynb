{
 "cells": [
  {
   "cell_type": "code",
   "execution_count": null,
   "source": [
    "# Headers to be used in dataframe\n",
    "header = ['ch0',\t'ch1',\t'ch2',\t'ch3',\t'ch4',\t'ch5',\t'ch6',\t'ch7',\t'ch8',\t'ch9',\t'ch10',\t'ch11',\t'ch12',\t'ch13',\t'ch14',\t'ch15']\n",
    "studyHeader = ['study', 'segment', 'class']\n",
    "studyHeader_train = ['study','block_id', 'segment', 'class']"
   ],
   "outputs": [],
   "metadata": {}
  },
  {
   "cell_type": "code",
   "execution_count": null,
   "source": [
    "# List matFile in directory\n",
    "matFile_Pat1Test = os.listdir(matRoot_Pat1Test)\n",
    "matfile = matFile_Pat1Test[0]\n",
    "print(os.path.join(matRoot_Pat1Test,matfile))\n",
    "print(os.path.join(csvRoot_Pat1Test,matfile.split('.')[0] + '.csv'))"
   ],
   "outputs": [],
   "metadata": {}
  },
  {
   "cell_type": "code",
   "execution_count": null,
   "source": [
    "def convertMatToCsv(matFilePath, csvOutputPath):\n",
    "  '''\n",
    "  convertMatToCsv converts patient mat files to csv \n",
    "  param matFilePath: the file path of the mat file\n",
    "  parm csvOutputPath: the directory to save the converted csv file\n",
    "  return: None\n",
    "  '''\n",
    "  \n",
    "  matfile = matFilePath.split('/')[-1].split('.')[0]\n",
    "  csvFile = os.path.join(csvOutputPath,matfile + '.csv')\n",
    "\n",
    "  # Check if output file already exists\n",
    "  if not os.path.exists(csvFile):\n",
    "    # Load the mat file to scipy\n",
    "    try:\n",
    "      mat = scipy.io.loadmat(matFilePath)['data']\n",
    "\n",
    "      # Create new columns that include patient segment and class\n",
    "      newColumns = [matFilePath.split('/')[-1].split('.')[0].split('_')] * np.shape(mat)[0]\n",
    "      study_df = pd.DataFrame(newColumns, columns=studyHeader)\n",
    "      mat_df = pd.DataFrame(mat, columns=header)\n",
    "      study_mat_df = pd.concat([study_df, mat_df], axis=1)\n",
    "      #  Pat1Train_df = pd.concat([Pat1Train_df,result])\n",
    "      study_mat_df.to_csv(csvFile)\n",
    "    except:\n",
    "      print(f'Unable to convert {matFilePath}')\n",
    "  else:\n",
    "    print(f'{csvFile} exists')"
   ],
   "outputs": [],
   "metadata": {}
  },
  {
   "cell_type": "code",
   "execution_count": null,
   "source": [
    "# To Do:\n",
    "# Update convertMatToCsv function to take into account test vs. train data\n",
    "# add block_id to train data"
   ],
   "outputs": [],
   "metadata": {}
  },
  {
   "cell_type": "markdown",
   "source": [
    "## Convert Pat1_Train to CSV\n",
    "\n",
    "\n"
   ],
   "metadata": {}
  },
  {
   "cell_type": "markdown",
   "source": [
    "## Convert Pat1_Test to CSV"
   ],
   "metadata": {}
  }
 ],
 "metadata": {
  "orig_nbformat": 4,
  "language_info": {
   "name": "python"
  }
 },
 "nbformat": 4,
 "nbformat_minor": 2
}