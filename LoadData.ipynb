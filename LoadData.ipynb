{
 "cells": [
  {
   "cell_type": "code",
   "execution_count": null,
   "source": [
    "## Watch this to understand how to use the ecosystem daata as quickly as possible\n",
    "# https: // www.dropbox.com/sh/iysbzchdix2dc55/AAD9t53ntFNtTbyAYyIIdtjRa?dl = 0\n",
    "# https://www.kaggle.com/c/melbourne-university-seizure-prediction\n",
    "# Dr Levin Kuhlmann (levin.kuhlmann@monash.edu),"
   ],
   "outputs": [],
   "metadata": {}
  },
  {
   "cell_type": "markdown",
   "source": [
    "## Imports"
   ],
   "metadata": {}
  },
  {
   "cell_type": "code",
   "execution_count": 4,
   "source": [
    "import pandas as pd\n",
    "import scipy.io as sio\n",
    "import numpy as np\n",
    "import os\n",
    "import glob\n"
   ],
   "outputs": [],
   "metadata": {}
  },
  {
   "cell_type": "code",
   "execution_count": null,
   "source": [],
   "outputs": [],
   "metadata": {}
  }
 ],
 "metadata": {
  "orig_nbformat": 4,
  "language_info": {
   "name": "python",
   "version": "3.9.6",
   "mimetype": "text/x-python",
   "codemirror_mode": {
    "name": "ipython",
    "version": 3
   },
   "pygments_lexer": "ipython3",
   "nbconvert_exporter": "python",
   "file_extension": ".py"
  },
  "kernelspec": {
   "name": "python3",
   "display_name": "Python 3.9.6 64-bit ('nma-dl': conda)"
  },
  "interpreter": {
   "hash": "0868085fcb6aca0e128a9d93c05f533d33aad3914f8f9f812b7cf13a20250908"
  }
 },
 "nbformat": 4,
 "nbformat_minor": 2
}